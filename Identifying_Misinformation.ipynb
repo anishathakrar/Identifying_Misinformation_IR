{
  "nbformat": 4,
  "nbformat_minor": 0,
  "metadata": {
    "colab": {
      "provenance": [],
      "mount_file_id": "1SEZ4Tj39eM-Z4L_ZOtzY__xHi5KamtuE",
      "authorship_tag": "ABX9TyOU9XccjVonVI6tiYysLjii",
      "include_colab_link": true
    },
    "kernelspec": {
      "name": "python3",
      "display_name": "Python 3"
    },
    "language_info": {
      "name": "python"
    }
  },
  "cells": [
    {
      "cell_type": "markdown",
      "metadata": {
        "id": "view-in-github",
        "colab_type": "text"
      },
      "source": [
        "<a href=\"https://colab.research.google.com/github/anishathakrar/Identifying_Misinformation_IR/blob/main/Identifying_Misinformation.ipynb\" target=\"_parent\"><img src=\"https://colab.research.google.com/assets/colab-badge.svg\" alt=\"Open In Colab\"/></a>"
      ]
    },
    {
      "cell_type": "markdown",
      "source": [
        "**CS6200 - Information Retrieval** \\\n",
        "**Anisha Thakrar**"
      ],
      "metadata": {
        "id": "PFyBG8-81S0O"
      }
    },
    {
      "cell_type": "code",
      "source": [
        "from google.colab import drive\n",
        "drive.mount('/content/gdrive')"
      ],
      "metadata": {
        "colab": {
          "base_uri": "https://localhost:8080/"
        },
        "id": "vDPSiggaigse",
        "outputId": "82be0a0e-1650-49b4-ad67-1c51e8cde74c"
      },
      "execution_count": 1,
      "outputs": [
        {
          "output_type": "stream",
          "name": "stdout",
          "text": [
            "Mounted at /content/gdrive\n"
          ]
        }
      ]
    },
    {
      "cell_type": "code",
      "source": [
        "%cd /content/drive/MyDrive/Colab Notebooks/CS6200"
      ],
      "metadata": {
        "colab": {
          "base_uri": "https://localhost:8080/"
        },
        "id": "q3Yzp0-4i1QI",
        "outputId": "950257ad-d93d-42cd-e70a-10fd0f9fd745"
      },
      "execution_count": 5,
      "outputs": [
        {
          "output_type": "stream",
          "name": "stdout",
          "text": [
            "/content/drive/MyDrive/Colab Notebooks/CS6200\n"
          ]
        }
      ]
    },
    {
      "cell_type": "code",
      "execution_count": 28,
      "metadata": {
        "id": "MUF6oSNuhMsf",
        "colab": {
          "base_uri": "https://localhost:8080/"
        },
        "outputId": "22168e88-4803-477d-8f7c-acbf79be9e09"
      },
      "outputs": [
        {
          "output_type": "stream",
          "name": "stderr",
          "text": [
            "[nltk_data] Downloading package stopwords to /root/nltk_data...\n",
            "[nltk_data]   Package stopwords is already up-to-date!\n",
            "[nltk_data] Downloading package omw-1.4 to /root/nltk_data...\n",
            "[nltk_data] Downloading package wordnet to /root/nltk_data...\n",
            "[nltk_data]   Package wordnet is already up-to-date!\n"
          ]
        }
      ],
      "source": [
        "import pandas as pd\n",
        "import numpy as np\n",
        "import nltk\n",
        "nltk.download('stopwords')\n",
        "nltk.download('omw-1.4')\n",
        "nltk.download('wordnet')\n",
        "\n",
        "from nltk import corpus\n",
        "from nltk.stem import WordNetLemmatizer\n",
        "from sklearn import metrics\n",
        "from sklearn.feature_extraction.text import TfidfVectorizer\n",
        "from sklearn.model_selection import train_test_split\n",
        "from sklearn.naive_bayes import MultinomialNB"
      ]
    },
    {
      "cell_type": "markdown",
      "source": [
        "**Reading train and test files**"
      ],
      "metadata": {
        "id": "EDa9pKiqjya2"
      }
    },
    {
      "cell_type": "code",
      "source": [
        "train_df = pd.read_csv('training.csv')\n",
        "train_df.head()"
      ],
      "metadata": {
        "colab": {
          "base_uri": "https://localhost:8080/",
          "height": 206
        },
        "id": "45wUgKVoi0Ws",
        "outputId": "055bdeb3-d315-4690-99c9-4048b1cf50a6"
      },
      "execution_count": 11,
      "outputs": [
        {
          "output_type": "execute_result",
          "data": {
            "text/plain": [
              "      Id                                              title  \\\n",
              "0  13970   WATCH: Paul Manafort Gets DESTROYED On CNN Fo...   \n",
              "1  41668  REFUGEE BUSINESS IS CASH COW FOR LUTHERAN CHAR...   \n",
              "2  26810   Trump’s Excuse For All His Sexist Statements ...   \n",
              "3  30967  'Jihadi Gran' gets 10 years after joining son ...   \n",
              "4  26072  New Czech government to seek confidence vote o...   \n",
              "\n",
              "                                                text    subject  \\\n",
              "0  Paul Manafort, the chair of Donald Trump s cam...       News   \n",
              "1  How very  charitable  of the Lutheran and Cath...  left-news   \n",
              "2  In case you ve been living under a rock for yo...       News   \n",
              "3  PARIS (Reuters) - A court on Friday sentenced ...  worldnews   \n",
              "4  PRAGUE (Reuters) - The Czech government will s...  worldnews   \n",
              "\n",
              "                 date  label  \n",
              "0     August 14, 2016      1  \n",
              "1         May 8, 2015      1  \n",
              "2      March 28, 2016      1  \n",
              "3    October 6, 2017       0  \n",
              "4  December 13, 2017       0  "
            ],
            "text/html": [
              "\n",
              "  <div id=\"df-b581e845-dc0e-4f35-8eb5-d8a855efc638\">\n",
              "    <div class=\"colab-df-container\">\n",
              "      <div>\n",
              "<style scoped>\n",
              "    .dataframe tbody tr th:only-of-type {\n",
              "        vertical-align: middle;\n",
              "    }\n",
              "\n",
              "    .dataframe tbody tr th {\n",
              "        vertical-align: top;\n",
              "    }\n",
              "\n",
              "    .dataframe thead th {\n",
              "        text-align: right;\n",
              "    }\n",
              "</style>\n",
              "<table border=\"1\" class=\"dataframe\">\n",
              "  <thead>\n",
              "    <tr style=\"text-align: right;\">\n",
              "      <th></th>\n",
              "      <th>Id</th>\n",
              "      <th>title</th>\n",
              "      <th>text</th>\n",
              "      <th>subject</th>\n",
              "      <th>date</th>\n",
              "      <th>label</th>\n",
              "    </tr>\n",
              "  </thead>\n",
              "  <tbody>\n",
              "    <tr>\n",
              "      <th>0</th>\n",
              "      <td>13970</td>\n",
              "      <td>WATCH: Paul Manafort Gets DESTROYED On CNN Fo...</td>\n",
              "      <td>Paul Manafort, the chair of Donald Trump s cam...</td>\n",
              "      <td>News</td>\n",
              "      <td>August 14, 2016</td>\n",
              "      <td>1</td>\n",
              "    </tr>\n",
              "    <tr>\n",
              "      <th>1</th>\n",
              "      <td>41668</td>\n",
              "      <td>REFUGEE BUSINESS IS CASH COW FOR LUTHERAN CHAR...</td>\n",
              "      <td>How very  charitable  of the Lutheran and Cath...</td>\n",
              "      <td>left-news</td>\n",
              "      <td>May 8, 2015</td>\n",
              "      <td>1</td>\n",
              "    </tr>\n",
              "    <tr>\n",
              "      <th>2</th>\n",
              "      <td>26810</td>\n",
              "      <td>Trump’s Excuse For All His Sexist Statements ...</td>\n",
              "      <td>In case you ve been living under a rock for yo...</td>\n",
              "      <td>News</td>\n",
              "      <td>March 28, 2016</td>\n",
              "      <td>1</td>\n",
              "    </tr>\n",
              "    <tr>\n",
              "      <th>3</th>\n",
              "      <td>30967</td>\n",
              "      <td>'Jihadi Gran' gets 10 years after joining son ...</td>\n",
              "      <td>PARIS (Reuters) - A court on Friday sentenced ...</td>\n",
              "      <td>worldnews</td>\n",
              "      <td>October 6, 2017</td>\n",
              "      <td>0</td>\n",
              "    </tr>\n",
              "    <tr>\n",
              "      <th>4</th>\n",
              "      <td>26072</td>\n",
              "      <td>New Czech government to seek confidence vote o...</td>\n",
              "      <td>PRAGUE (Reuters) - The Czech government will s...</td>\n",
              "      <td>worldnews</td>\n",
              "      <td>December 13, 2017</td>\n",
              "      <td>0</td>\n",
              "    </tr>\n",
              "  </tbody>\n",
              "</table>\n",
              "</div>\n",
              "      <button class=\"colab-df-convert\" onclick=\"convertToInteractive('df-b581e845-dc0e-4f35-8eb5-d8a855efc638')\"\n",
              "              title=\"Convert this dataframe to an interactive table.\"\n",
              "              style=\"display:none;\">\n",
              "        \n",
              "  <svg xmlns=\"http://www.w3.org/2000/svg\" height=\"24px\"viewBox=\"0 0 24 24\"\n",
              "       width=\"24px\">\n",
              "    <path d=\"M0 0h24v24H0V0z\" fill=\"none\"/>\n",
              "    <path d=\"M18.56 5.44l.94 2.06.94-2.06 2.06-.94-2.06-.94-.94-2.06-.94 2.06-2.06.94zm-11 1L8.5 8.5l.94-2.06 2.06-.94-2.06-.94L8.5 2.5l-.94 2.06-2.06.94zm10 10l.94 2.06.94-2.06 2.06-.94-2.06-.94-.94-2.06-.94 2.06-2.06.94z\"/><path d=\"M17.41 7.96l-1.37-1.37c-.4-.4-.92-.59-1.43-.59-.52 0-1.04.2-1.43.59L10.3 9.45l-7.72 7.72c-.78.78-.78 2.05 0 2.83L4 21.41c.39.39.9.59 1.41.59.51 0 1.02-.2 1.41-.59l7.78-7.78 2.81-2.81c.8-.78.8-2.07 0-2.86zM5.41 20L4 18.59l7.72-7.72 1.47 1.35L5.41 20z\"/>\n",
              "  </svg>\n",
              "      </button>\n",
              "      \n",
              "  <style>\n",
              "    .colab-df-container {\n",
              "      display:flex;\n",
              "      flex-wrap:wrap;\n",
              "      gap: 12px;\n",
              "    }\n",
              "\n",
              "    .colab-df-convert {\n",
              "      background-color: #E8F0FE;\n",
              "      border: none;\n",
              "      border-radius: 50%;\n",
              "      cursor: pointer;\n",
              "      display: none;\n",
              "      fill: #1967D2;\n",
              "      height: 32px;\n",
              "      padding: 0 0 0 0;\n",
              "      width: 32px;\n",
              "    }\n",
              "\n",
              "    .colab-df-convert:hover {\n",
              "      background-color: #E2EBFA;\n",
              "      box-shadow: 0px 1px 2px rgba(60, 64, 67, 0.3), 0px 1px 3px 1px rgba(60, 64, 67, 0.15);\n",
              "      fill: #174EA6;\n",
              "    }\n",
              "\n",
              "    [theme=dark] .colab-df-convert {\n",
              "      background-color: #3B4455;\n",
              "      fill: #D2E3FC;\n",
              "    }\n",
              "\n",
              "    [theme=dark] .colab-df-convert:hover {\n",
              "      background-color: #434B5C;\n",
              "      box-shadow: 0px 1px 3px 1px rgba(0, 0, 0, 0.15);\n",
              "      filter: drop-shadow(0px 1px 2px rgba(0, 0, 0, 0.3));\n",
              "      fill: #FFFFFF;\n",
              "    }\n",
              "  </style>\n",
              "\n",
              "      <script>\n",
              "        const buttonEl =\n",
              "          document.querySelector('#df-b581e845-dc0e-4f35-8eb5-d8a855efc638 button.colab-df-convert');\n",
              "        buttonEl.style.display =\n",
              "          google.colab.kernel.accessAllowed ? 'block' : 'none';\n",
              "\n",
              "        async function convertToInteractive(key) {\n",
              "          const element = document.querySelector('#df-b581e845-dc0e-4f35-8eb5-d8a855efc638');\n",
              "          const dataTable =\n",
              "            await google.colab.kernel.invokeFunction('convertToInteractive',\n",
              "                                                     [key], {});\n",
              "          if (!dataTable) return;\n",
              "\n",
              "          const docLinkHtml = 'Like what you see? Visit the ' +\n",
              "            '<a target=\"_blank\" href=https://colab.research.google.com/notebooks/data_table.ipynb>data table notebook</a>'\n",
              "            + ' to learn more about interactive tables.';\n",
              "          element.innerHTML = '';\n",
              "          dataTable['output_type'] = 'display_data';\n",
              "          await google.colab.output.renderOutput(dataTable, element);\n",
              "          const docLink = document.createElement('div');\n",
              "          docLink.innerHTML = docLinkHtml;\n",
              "          element.appendChild(docLink);\n",
              "        }\n",
              "      </script>\n",
              "    </div>\n",
              "  </div>\n",
              "  "
            ]
          },
          "metadata": {},
          "execution_count": 11
        }
      ]
    },
    {
      "cell_type": "code",
      "source": [
        "# Records in training data\n",
        "len(train_df)"
      ],
      "metadata": {
        "colab": {
          "base_uri": "https://localhost:8080/"
        },
        "id": "Bv0BXoGojZT3",
        "outputId": "69417655-a646-4086-eda3-c85fa449f456"
      },
      "execution_count": 10,
      "outputs": [
        {
          "output_type": "execute_result",
          "data": {
            "text/plain": [
              "31428"
            ]
          },
          "metadata": {},
          "execution_count": 10
        }
      ]
    },
    {
      "cell_type": "code",
      "source": [
        "test_df = pd.read_csv('test.csv')\n",
        "test_df.head()"
      ],
      "metadata": {
        "colab": {
          "base_uri": "https://localhost:8080/",
          "height": 206
        },
        "id": "wv66Bgp4jg4N",
        "outputId": "a346a53d-8180-465c-bc13-168793a5e704"
      },
      "execution_count": 14,
      "outputs": [
        {
          "output_type": "execute_result",
          "data": {
            "text/plain": [
              "      Id                                              title  \\\n",
              "0  22216        Five killed in sectarian attack in Pakistan   \n",
              "1  27917  White House narrows search to three for Suprem...   \n",
              "2  25007  THE DEATH OF P.C. POLICE? Trump’s DOJ Makes Ma...   \n",
              "3   1377  House, Senate Republicans face challenge over ...   \n",
              "4  32476  China complains about Taiwan content in U.S. d...   \n",
              "\n",
              "                                                text       subject  \\\n",
              "0  QUETTA, Pakistan (Reuters) - (This October 9 s...     worldnews   \n",
              "1  WASHINGTON/AUSTIN, Texas (Reuters) - The White...  politicsNews   \n",
              "2  The Justice Department on Thursday dropped the...      politics   \n",
              "3  WASHINGTON (Reuters) - U.S. Republicans in Con...  politicsNews   \n",
              "4  BEIJING (Reuters) - China said on Thursday it ...     worldnews   \n",
              "\n",
              "                 date  \n",
              "0    October 9, 2017   \n",
              "1     March 11, 2016   \n",
              "2        Jun 30, 2017  \n",
              "3   December 5, 2017   \n",
              "4  December 14, 2017   "
            ],
            "text/html": [
              "\n",
              "  <div id=\"df-7c70840b-9b43-4df3-9361-6aeeaa1350f7\">\n",
              "    <div class=\"colab-df-container\">\n",
              "      <div>\n",
              "<style scoped>\n",
              "    .dataframe tbody tr th:only-of-type {\n",
              "        vertical-align: middle;\n",
              "    }\n",
              "\n",
              "    .dataframe tbody tr th {\n",
              "        vertical-align: top;\n",
              "    }\n",
              "\n",
              "    .dataframe thead th {\n",
              "        text-align: right;\n",
              "    }\n",
              "</style>\n",
              "<table border=\"1\" class=\"dataframe\">\n",
              "  <thead>\n",
              "    <tr style=\"text-align: right;\">\n",
              "      <th></th>\n",
              "      <th>Id</th>\n",
              "      <th>title</th>\n",
              "      <th>text</th>\n",
              "      <th>subject</th>\n",
              "      <th>date</th>\n",
              "    </tr>\n",
              "  </thead>\n",
              "  <tbody>\n",
              "    <tr>\n",
              "      <th>0</th>\n",
              "      <td>22216</td>\n",
              "      <td>Five killed in sectarian attack in Pakistan</td>\n",
              "      <td>QUETTA, Pakistan (Reuters) - (This October 9 s...</td>\n",
              "      <td>worldnews</td>\n",
              "      <td>October 9, 2017</td>\n",
              "    </tr>\n",
              "    <tr>\n",
              "      <th>1</th>\n",
              "      <td>27917</td>\n",
              "      <td>White House narrows search to three for Suprem...</td>\n",
              "      <td>WASHINGTON/AUSTIN, Texas (Reuters) - The White...</td>\n",
              "      <td>politicsNews</td>\n",
              "      <td>March 11, 2016</td>\n",
              "    </tr>\n",
              "    <tr>\n",
              "      <th>2</th>\n",
              "      <td>25007</td>\n",
              "      <td>THE DEATH OF P.C. POLICE? Trump’s DOJ Makes Ma...</td>\n",
              "      <td>The Justice Department on Thursday dropped the...</td>\n",
              "      <td>politics</td>\n",
              "      <td>Jun 30, 2017</td>\n",
              "    </tr>\n",
              "    <tr>\n",
              "      <th>3</th>\n",
              "      <td>1377</td>\n",
              "      <td>House, Senate Republicans face challenge over ...</td>\n",
              "      <td>WASHINGTON (Reuters) - U.S. Republicans in Con...</td>\n",
              "      <td>politicsNews</td>\n",
              "      <td>December 5, 2017</td>\n",
              "    </tr>\n",
              "    <tr>\n",
              "      <th>4</th>\n",
              "      <td>32476</td>\n",
              "      <td>China complains about Taiwan content in U.S. d...</td>\n",
              "      <td>BEIJING (Reuters) - China said on Thursday it ...</td>\n",
              "      <td>worldnews</td>\n",
              "      <td>December 14, 2017</td>\n",
              "    </tr>\n",
              "  </tbody>\n",
              "</table>\n",
              "</div>\n",
              "      <button class=\"colab-df-convert\" onclick=\"convertToInteractive('df-7c70840b-9b43-4df3-9361-6aeeaa1350f7')\"\n",
              "              title=\"Convert this dataframe to an interactive table.\"\n",
              "              style=\"display:none;\">\n",
              "        \n",
              "  <svg xmlns=\"http://www.w3.org/2000/svg\" height=\"24px\"viewBox=\"0 0 24 24\"\n",
              "       width=\"24px\">\n",
              "    <path d=\"M0 0h24v24H0V0z\" fill=\"none\"/>\n",
              "    <path d=\"M18.56 5.44l.94 2.06.94-2.06 2.06-.94-2.06-.94-.94-2.06-.94 2.06-2.06.94zm-11 1L8.5 8.5l.94-2.06 2.06-.94-2.06-.94L8.5 2.5l-.94 2.06-2.06.94zm10 10l.94 2.06.94-2.06 2.06-.94-2.06-.94-.94-2.06-.94 2.06-2.06.94z\"/><path d=\"M17.41 7.96l-1.37-1.37c-.4-.4-.92-.59-1.43-.59-.52 0-1.04.2-1.43.59L10.3 9.45l-7.72 7.72c-.78.78-.78 2.05 0 2.83L4 21.41c.39.39.9.59 1.41.59.51 0 1.02-.2 1.41-.59l7.78-7.78 2.81-2.81c.8-.78.8-2.07 0-2.86zM5.41 20L4 18.59l7.72-7.72 1.47 1.35L5.41 20z\"/>\n",
              "  </svg>\n",
              "      </button>\n",
              "      \n",
              "  <style>\n",
              "    .colab-df-container {\n",
              "      display:flex;\n",
              "      flex-wrap:wrap;\n",
              "      gap: 12px;\n",
              "    }\n",
              "\n",
              "    .colab-df-convert {\n",
              "      background-color: #E8F0FE;\n",
              "      border: none;\n",
              "      border-radius: 50%;\n",
              "      cursor: pointer;\n",
              "      display: none;\n",
              "      fill: #1967D2;\n",
              "      height: 32px;\n",
              "      padding: 0 0 0 0;\n",
              "      width: 32px;\n",
              "    }\n",
              "\n",
              "    .colab-df-convert:hover {\n",
              "      background-color: #E2EBFA;\n",
              "      box-shadow: 0px 1px 2px rgba(60, 64, 67, 0.3), 0px 1px 3px 1px rgba(60, 64, 67, 0.15);\n",
              "      fill: #174EA6;\n",
              "    }\n",
              "\n",
              "    [theme=dark] .colab-df-convert {\n",
              "      background-color: #3B4455;\n",
              "      fill: #D2E3FC;\n",
              "    }\n",
              "\n",
              "    [theme=dark] .colab-df-convert:hover {\n",
              "      background-color: #434B5C;\n",
              "      box-shadow: 0px 1px 3px 1px rgba(0, 0, 0, 0.15);\n",
              "      filter: drop-shadow(0px 1px 2px rgba(0, 0, 0, 0.3));\n",
              "      fill: #FFFFFF;\n",
              "    }\n",
              "  </style>\n",
              "\n",
              "      <script>\n",
              "        const buttonEl =\n",
              "          document.querySelector('#df-7c70840b-9b43-4df3-9361-6aeeaa1350f7 button.colab-df-convert');\n",
              "        buttonEl.style.display =\n",
              "          google.colab.kernel.accessAllowed ? 'block' : 'none';\n",
              "\n",
              "        async function convertToInteractive(key) {\n",
              "          const element = document.querySelector('#df-7c70840b-9b43-4df3-9361-6aeeaa1350f7');\n",
              "          const dataTable =\n",
              "            await google.colab.kernel.invokeFunction('convertToInteractive',\n",
              "                                                     [key], {});\n",
              "          if (!dataTable) return;\n",
              "\n",
              "          const docLinkHtml = 'Like what you see? Visit the ' +\n",
              "            '<a target=\"_blank\" href=https://colab.research.google.com/notebooks/data_table.ipynb>data table notebook</a>'\n",
              "            + ' to learn more about interactive tables.';\n",
              "          element.innerHTML = '';\n",
              "          dataTable['output_type'] = 'display_data';\n",
              "          await google.colab.output.renderOutput(dataTable, element);\n",
              "          const docLink = document.createElement('div');\n",
              "          docLink.innerHTML = docLinkHtml;\n",
              "          element.appendChild(docLink);\n",
              "        }\n",
              "      </script>\n",
              "    </div>\n",
              "  </div>\n",
              "  "
            ]
          },
          "metadata": {},
          "execution_count": 14
        }
      ]
    },
    {
      "cell_type": "code",
      "source": [
        "# Records in test data\n",
        "len(test_df)"
      ],
      "metadata": {
        "colab": {
          "base_uri": "https://localhost:8080/"
        },
        "id": "kvVWKnXIjqpz",
        "outputId": "aa239042-4bc2-432e-8b4e-7a49387edff1"
      },
      "execution_count": 13,
      "outputs": [
        {
          "output_type": "execute_result",
          "data": {
            "text/plain": [
              "13470"
            ]
          },
          "metadata": {},
          "execution_count": 13
        }
      ]
    },
    {
      "cell_type": "markdown",
      "source": [
        "**Data Cleaning**"
      ],
      "metadata": {
        "id": "5tHYlkVtkHHn"
      }
    },
    {
      "cell_type": "code",
      "source": [
        "# Drop NA values if any\n",
        "train_df.isna().sum() # no NA values"
      ],
      "metadata": {
        "colab": {
          "base_uri": "https://localhost:8080/"
        },
        "id": "JG2hm6-3jsIq",
        "outputId": "d88de913-bc7d-4da0-d497-e08dad1c4a5c"
      },
      "execution_count": 22,
      "outputs": [
        {
          "output_type": "execute_result",
          "data": {
            "text/plain": [
              "Id         0\n",
              "title      0\n",
              "text       0\n",
              "subject    0\n",
              "date       0\n",
              "label      0\n",
              "dtype: int64"
            ]
          },
          "metadata": {},
          "execution_count": 22
        }
      ]
    },
    {
      "cell_type": "code",
      "source": [
        "# Remove stopwords from text \n",
        "stop_words = corpus.stopwords.words('english')\n",
        "def remove_stopwords(text):\n",
        "    return ' '.join(word.lower() for word in text.split(' ') if word not in stop_words)\n",
        "\n",
        "train_df.text = train_df.text.apply(remove_stopwords)"
      ],
      "metadata": {
        "id": "2l6mFUgwkfOz"
      },
      "execution_count": 25,
      "outputs": []
    },
    {
      "cell_type": "code",
      "source": [
        "# Remove junk characters from text \n",
        "train_df.text = train_df.text.str.replace('\\d+','')"
      ],
      "metadata": {
        "colab": {
          "base_uri": "https://localhost:8080/"
        },
        "id": "VmCpf-zplSi9",
        "outputId": "5f57550b-80fb-49b9-f4c9-e9c7e4ce255e"
      },
      "execution_count": 26,
      "outputs": [
        {
          "output_type": "stream",
          "name": "stderr",
          "text": [
            "<ipython-input-26-e6bd150cf480>:2: FutureWarning: The default value of regex will change from True to False in a future version.\n",
            "  train_df.text = train_df.text.str.replace('\\d+','')\n"
          ]
        }
      ]
    },
    {
      "cell_type": "code",
      "source": [
        "# Lemmatization\n",
        "lemmatizer = WordNetLemmatizer()\n",
        "def lemmatizing(text):\n",
        "    return ' '.join(lemmatizer.lemmatize(word) for word in text.split(' ') )\n",
        "\n",
        "train_df.text = train_df.text.apply(lemmatizing)"
      ],
      "metadata": {
        "id": "RExCWCL3lsef"
      },
      "execution_count": 29,
      "outputs": []
    },
    {
      "cell_type": "code",
      "source": [
        "# Create TF-IDF\n",
        "tfidf =TfidfVectorizer(max_features=5000, ngram_range=(1,3))\n",
        "X = tfidf.fit_transform(train_df.text).toarray()"
      ],
      "metadata": {
        "id": "mtV4W89XlxHX"
      },
      "execution_count": 30,
      "outputs": []
    },
    {
      "cell_type": "code",
      "source": [
        "X.shape"
      ],
      "metadata": {
        "colab": {
          "base_uri": "https://localhost:8080/"
        },
        "id": "AjERNqodmoqZ",
        "outputId": "e5b834ff-1174-479f-ce86-b29139aa8a01"
      },
      "execution_count": 32,
      "outputs": [
        {
          "output_type": "execute_result",
          "data": {
            "text/plain": [
              "(31428, 5000)"
            ]
          },
          "metadata": {},
          "execution_count": 32
        }
      ]
    },
    {
      "cell_type": "code",
      "source": [
        "y = train_df.label"
      ],
      "metadata": {
        "id": "ooCOXMFbmpqp"
      },
      "execution_count": 33,
      "outputs": []
    },
    {
      "cell_type": "markdown",
      "source": [
        "**Naive Bayes Classifier**"
      ],
      "metadata": {
        "id": "q_YtdaQZmvwu"
      }
    },
    {
      "cell_type": "code",
      "source": [
        "# train-test split\n",
        "x_train, x_dev, y_train, y_dev = train_test_split(X, y, train_size=0.25, random_state = 42)\n",
        "\n",
        "# Fitting the model\n",
        "classifier = MultinomialNB().fit(x_train, y_train)\n",
        "preds = classifier.predict(x_dev)\n",
        "preds[:50]"
      ],
      "metadata": {
        "colab": {
          "base_uri": "https://localhost:8080/"
        },
        "id": "Nsdh8kEvmrf3",
        "outputId": "1900754f-be3f-40f0-fbea-ea8fe1629145"
      },
      "execution_count": 36,
      "outputs": [
        {
          "output_type": "execute_result",
          "data": {
            "text/plain": [
              "array([1, 1, 1, 0, 1, 1, 0, 1, 1, 1, 1, 0, 0, 1, 0, 0, 1, 0, 0, 0, 0, 1,\n",
              "       1, 0, 1, 1, 0, 1, 1, 0, 1, 1, 1, 0, 0, 1, 1, 1, 1, 1, 1, 1, 1, 0,\n",
              "       1, 1, 0, 1, 0, 0])"
            ]
          },
          "metadata": {},
          "execution_count": 36
        }
      ]
    },
    {
      "cell_type": "code",
      "source": [
        "# Model evaluation\n",
        "print(\"Accuracy:\",round(metrics.accuracy_score(y_dev, preds),4))\n",
        "print(\"Precision:\",round(metrics.precision_score(y_dev, preds),4))\n",
        "print(\"Recall:\",round(metrics.recall_score(y_dev, preds),4))"
      ],
      "metadata": {
        "colab": {
          "base_uri": "https://localhost:8080/"
        },
        "id": "y4XHBVcSq2AU",
        "outputId": "0a4ff93a-80ea-4d55-9358-cc1b0fbf68b6"
      },
      "execution_count": 55,
      "outputs": [
        {
          "output_type": "stream",
          "name": "stdout",
          "text": [
            "Accuracy: 0.9494\n",
            "Precision: 0.9513\n",
            "Recall: 0.9526\n"
          ]
        }
      ]
    },
    {
      "cell_type": "markdown",
      "source": [
        "**Topic Relevance**"
      ],
      "metadata": {
        "id": "TUrWY1_Xr67T"
      }
    },
    {
      "cell_type": "code",
      "source": [
        "# Topics in the dataset\n",
        "train_df[\"subject\"].value_counts()"
      ],
      "metadata": {
        "colab": {
          "base_uri": "https://localhost:8080/"
        },
        "id": "U9t3FrjFo4xX",
        "outputId": "e7d324ce-62e3-48a7-c868-1abbd3949075"
      },
      "execution_count": 56,
      "outputs": [
        {
          "output_type": "execute_result",
          "data": {
            "text/plain": [
              "politicsNews       7863\n",
              "worldnews          7088\n",
              "News               6378\n",
              "politics           4832\n",
              "left-news          3096\n",
              "Government News    1089\n",
              "US_News             546\n",
              "Middle-east         536\n",
              "Name: subject, dtype: int64"
            ]
          },
          "metadata": {},
          "execution_count": 56
        }
      ]
    },
    {
      "cell_type": "code",
      "source": [
        "# Encoding subject column\n",
        "train_df['subject'] = train_df['subject'].astype('category')\n",
        "train_df['subject_code'] = train_df['subject'].cat.codes\n",
        "train_df.head()"
      ],
      "metadata": {
        "colab": {
          "base_uri": "https://localhost:8080/",
          "height": 302
        },
        "id": "o6o5YaN4r9Un",
        "outputId": "39cb64a9-a53e-491a-b356-05f6bcbbbc54"
      },
      "execution_count": 57,
      "outputs": [
        {
          "output_type": "execute_result",
          "data": {
            "text/plain": [
              "      Id                                              title  \\\n",
              "0  13970   WATCH: Paul Manafort Gets DESTROYED On CNN Fo...   \n",
              "1  41668  REFUGEE BUSINESS IS CASH COW FOR LUTHERAN CHAR...   \n",
              "2  26810   Trump’s Excuse For All His Sexist Statements ...   \n",
              "3  30967  'Jihadi Gran' gets 10 years after joining son ...   \n",
              "4  26072  New Czech government to seek confidence vote o...   \n",
              "\n",
              "                                                text    subject  \\\n",
              "0  paul manafort, chair donald trump campaign, go...       News   \n",
              "1   charitable  lutheran catholic church bring te...  left-news   \n",
              "2  case living rock entire life, especially campa...       News   \n",
              "3  paris (reuters) - court friday sentenced radic...  worldnews   \n",
              "4  prague (reuters) - czech government seek vote ...  worldnews   \n",
              "\n",
              "                 date  label  subject_code  \n",
              "0     August 14, 2016      1             2  \n",
              "1         May 8, 2015      1             4  \n",
              "2      March 28, 2016      1             2  \n",
              "3    October 6, 2017       0             7  \n",
              "4  December 13, 2017       0             7  "
            ],
            "text/html": [
              "\n",
              "  <div id=\"df-73b010fc-61ae-460e-a3f6-e77157a28cc3\">\n",
              "    <div class=\"colab-df-container\">\n",
              "      <div>\n",
              "<style scoped>\n",
              "    .dataframe tbody tr th:only-of-type {\n",
              "        vertical-align: middle;\n",
              "    }\n",
              "\n",
              "    .dataframe tbody tr th {\n",
              "        vertical-align: top;\n",
              "    }\n",
              "\n",
              "    .dataframe thead th {\n",
              "        text-align: right;\n",
              "    }\n",
              "</style>\n",
              "<table border=\"1\" class=\"dataframe\">\n",
              "  <thead>\n",
              "    <tr style=\"text-align: right;\">\n",
              "      <th></th>\n",
              "      <th>Id</th>\n",
              "      <th>title</th>\n",
              "      <th>text</th>\n",
              "      <th>subject</th>\n",
              "      <th>date</th>\n",
              "      <th>label</th>\n",
              "      <th>subject_code</th>\n",
              "    </tr>\n",
              "  </thead>\n",
              "  <tbody>\n",
              "    <tr>\n",
              "      <th>0</th>\n",
              "      <td>13970</td>\n",
              "      <td>WATCH: Paul Manafort Gets DESTROYED On CNN Fo...</td>\n",
              "      <td>paul manafort, chair donald trump campaign, go...</td>\n",
              "      <td>News</td>\n",
              "      <td>August 14, 2016</td>\n",
              "      <td>1</td>\n",
              "      <td>2</td>\n",
              "    </tr>\n",
              "    <tr>\n",
              "      <th>1</th>\n",
              "      <td>41668</td>\n",
              "      <td>REFUGEE BUSINESS IS CASH COW FOR LUTHERAN CHAR...</td>\n",
              "      <td>charitable  lutheran catholic church bring te...</td>\n",
              "      <td>left-news</td>\n",
              "      <td>May 8, 2015</td>\n",
              "      <td>1</td>\n",
              "      <td>4</td>\n",
              "    </tr>\n",
              "    <tr>\n",
              "      <th>2</th>\n",
              "      <td>26810</td>\n",
              "      <td>Trump’s Excuse For All His Sexist Statements ...</td>\n",
              "      <td>case living rock entire life, especially campa...</td>\n",
              "      <td>News</td>\n",
              "      <td>March 28, 2016</td>\n",
              "      <td>1</td>\n",
              "      <td>2</td>\n",
              "    </tr>\n",
              "    <tr>\n",
              "      <th>3</th>\n",
              "      <td>30967</td>\n",
              "      <td>'Jihadi Gran' gets 10 years after joining son ...</td>\n",
              "      <td>paris (reuters) - court friday sentenced radic...</td>\n",
              "      <td>worldnews</td>\n",
              "      <td>October 6, 2017</td>\n",
              "      <td>0</td>\n",
              "      <td>7</td>\n",
              "    </tr>\n",
              "    <tr>\n",
              "      <th>4</th>\n",
              "      <td>26072</td>\n",
              "      <td>New Czech government to seek confidence vote o...</td>\n",
              "      <td>prague (reuters) - czech government seek vote ...</td>\n",
              "      <td>worldnews</td>\n",
              "      <td>December 13, 2017</td>\n",
              "      <td>0</td>\n",
              "      <td>7</td>\n",
              "    </tr>\n",
              "  </tbody>\n",
              "</table>\n",
              "</div>\n",
              "      <button class=\"colab-df-convert\" onclick=\"convertToInteractive('df-73b010fc-61ae-460e-a3f6-e77157a28cc3')\"\n",
              "              title=\"Convert this dataframe to an interactive table.\"\n",
              "              style=\"display:none;\">\n",
              "        \n",
              "  <svg xmlns=\"http://www.w3.org/2000/svg\" height=\"24px\"viewBox=\"0 0 24 24\"\n",
              "       width=\"24px\">\n",
              "    <path d=\"M0 0h24v24H0V0z\" fill=\"none\"/>\n",
              "    <path d=\"M18.56 5.44l.94 2.06.94-2.06 2.06-.94-2.06-.94-.94-2.06-.94 2.06-2.06.94zm-11 1L8.5 8.5l.94-2.06 2.06-.94-2.06-.94L8.5 2.5l-.94 2.06-2.06.94zm10 10l.94 2.06.94-2.06 2.06-.94-2.06-.94-.94-2.06-.94 2.06-2.06.94z\"/><path d=\"M17.41 7.96l-1.37-1.37c-.4-.4-.92-.59-1.43-.59-.52 0-1.04.2-1.43.59L10.3 9.45l-7.72 7.72c-.78.78-.78 2.05 0 2.83L4 21.41c.39.39.9.59 1.41.59.51 0 1.02-.2 1.41-.59l7.78-7.78 2.81-2.81c.8-.78.8-2.07 0-2.86zM5.41 20L4 18.59l7.72-7.72 1.47 1.35L5.41 20z\"/>\n",
              "  </svg>\n",
              "      </button>\n",
              "      \n",
              "  <style>\n",
              "    .colab-df-container {\n",
              "      display:flex;\n",
              "      flex-wrap:wrap;\n",
              "      gap: 12px;\n",
              "    }\n",
              "\n",
              "    .colab-df-convert {\n",
              "      background-color: #E8F0FE;\n",
              "      border: none;\n",
              "      border-radius: 50%;\n",
              "      cursor: pointer;\n",
              "      display: none;\n",
              "      fill: #1967D2;\n",
              "      height: 32px;\n",
              "      padding: 0 0 0 0;\n",
              "      width: 32px;\n",
              "    }\n",
              "\n",
              "    .colab-df-convert:hover {\n",
              "      background-color: #E2EBFA;\n",
              "      box-shadow: 0px 1px 2px rgba(60, 64, 67, 0.3), 0px 1px 3px 1px rgba(60, 64, 67, 0.15);\n",
              "      fill: #174EA6;\n",
              "    }\n",
              "\n",
              "    [theme=dark] .colab-df-convert {\n",
              "      background-color: #3B4455;\n",
              "      fill: #D2E3FC;\n",
              "    }\n",
              "\n",
              "    [theme=dark] .colab-df-convert:hover {\n",
              "      background-color: #434B5C;\n",
              "      box-shadow: 0px 1px 3px 1px rgba(0, 0, 0, 0.15);\n",
              "      filter: drop-shadow(0px 1px 2px rgba(0, 0, 0, 0.3));\n",
              "      fill: #FFFFFF;\n",
              "    }\n",
              "  </style>\n",
              "\n",
              "      <script>\n",
              "        const buttonEl =\n",
              "          document.querySelector('#df-73b010fc-61ae-460e-a3f6-e77157a28cc3 button.colab-df-convert');\n",
              "        buttonEl.style.display =\n",
              "          google.colab.kernel.accessAllowed ? 'block' : 'none';\n",
              "\n",
              "        async function convertToInteractive(key) {\n",
              "          const element = document.querySelector('#df-73b010fc-61ae-460e-a3f6-e77157a28cc3');\n",
              "          const dataTable =\n",
              "            await google.colab.kernel.invokeFunction('convertToInteractive',\n",
              "                                                     [key], {});\n",
              "          if (!dataTable) return;\n",
              "\n",
              "          const docLinkHtml = 'Like what you see? Visit the ' +\n",
              "            '<a target=\"_blank\" href=https://colab.research.google.com/notebooks/data_table.ipynb>data table notebook</a>'\n",
              "            + ' to learn more about interactive tables.';\n",
              "          element.innerHTML = '';\n",
              "          dataTable['output_type'] = 'display_data';\n",
              "          await google.colab.output.renderOutput(dataTable, element);\n",
              "          const docLink = document.createElement('div');\n",
              "          docLink.innerHTML = docLinkHtml;\n",
              "          element.appendChild(docLink);\n",
              "        }\n",
              "      </script>\n",
              "    </div>\n",
              "  </div>\n",
              "  "
            ]
          },
          "metadata": {},
          "execution_count": 57
        }
      ]
    },
    {
      "cell_type": "code",
      "source": [
        "# Create TF-IDF\n",
        "X_multi = tfidf.fit_transform(train_df.text).toarray()\n",
        "y_multi = train_df.subject_code\n",
        "\n",
        "# train-test split\n",
        "x_multi_train,x_multi_dev,y_multi_train,y_multi_dev = train_test_split(X_multi, y_multi, train_size=0.25, random_state = 42)\n",
        "\n",
        "# Fitting the model with y as subject code\n",
        "multi_classifier = MultinomialNB().fit(x_multi_train, y_multi_train)\n",
        "preds_multi = multi_classifier.predict(x_multi_dev)\n",
        "preds_multi[:50]"
      ],
      "metadata": {
        "colab": {
          "base_uri": "https://localhost:8080/"
        },
        "id": "m19t5kQwtJS5",
        "outputId": "36062ef2-d0a4-41eb-f45f-4471e8340629"
      },
      "execution_count": 62,
      "outputs": [
        {
          "output_type": "execute_result",
          "data": {
            "text/plain": [
              "array([2, 6, 2, 6, 6, 2, 6, 2, 2, 2, 6, 7, 7, 5, 6, 7, 3, 6, 7, 6, 6, 5,\n",
              "       6, 7, 2, 2, 6, 2, 5, 6, 5, 2, 6, 7, 6, 5, 6, 5, 6, 5, 5, 2, 6, 6,\n",
              "       5, 2, 6, 2, 6, 6], dtype=int8)"
            ]
          },
          "metadata": {},
          "execution_count": 62
        }
      ]
    },
    {
      "cell_type": "code",
      "source": [
        "# Model evaluation\n",
        "print(\"Accuracy:\",round(metrics.accuracy_score(y_multi_dev, preds_multi),4))\n",
        "print(\"Precision:\",round(metrics.precision_score(y_multi_dev, preds_multi, average=\"weighted\"),4))\n",
        "print(\"Recall:\",round(metrics.recall_score(y_multi_dev, preds_multi, average=\"weighted\"),4))"
      ],
      "metadata": {
        "colab": {
          "base_uri": "https://localhost:8080/"
        },
        "id": "U2MSp33EudDw",
        "outputId": "d0cabd60-2332-4f1a-a501-f77076f7c32e"
      },
      "execution_count": 70,
      "outputs": [
        {
          "output_type": "stream",
          "name": "stdout",
          "text": [
            "Accuracy: 0.7086\n",
            "Precision: 0.6447\n",
            "Recall: 0.7086\n"
          ]
        }
      ]
    },
    {
      "cell_type": "markdown",
      "source": [
        "**Test Data Preparation** "
      ],
      "metadata": {
        "id": "nNcVx9vawihA"
      }
    },
    {
      "cell_type": "code",
      "source": [
        "# Data cleaning \n",
        "test_df = test_df.dropna()\n",
        "test_df.text = test_df.text.apply(remove_stopwords)\n",
        "test_df.text = test_df.text.apply(lemmatizing)\n",
        "test_df.text"
      ],
      "metadata": {
        "colab": {
          "base_uri": "https://localhost:8080/"
        },
        "id": "fJr7epq0uwiO",
        "outputId": "c3d0e8f8-b58c-43be-85f1-88a3a3f0ed30"
      },
      "execution_count": 71,
      "outputs": [
        {
          "output_type": "execute_result",
          "data": {
            "text/plain": [
              "0        quetta, pakistan (reuters) - (this october 9 s...\n",
              "1        washington/austin, texas (reuters) - the white...\n",
              "2        the justice department thursday dropped legal ...\n",
              "3        washington (reuters) - u.s. republican congres...\n",
              "4        beijing (reuters) - china said thursday compla...\n",
              "                               ...                        \n",
              "13465    ron reagan, late president reagan son, underst...\n",
              "13466    a prolific trump foe found viral fame boasting...\n",
              "13467    washington (reuters) - u.s. president donald t...\n",
              "13468    beijing (reuters) - a young chinese climbing e...\n",
              "13469    hillary lost lead swing state oh, nv, ia fl si...\n",
              "Name: text, Length: 13470, dtype: object"
            ]
          },
          "metadata": {},
          "execution_count": 71
        }
      ]
    },
    {
      "cell_type": "code",
      "source": [
        "X_test = tfidf.fit_transform(test_df.text).toarray()"
      ],
      "metadata": {
        "id": "aKPPR6-ywpxE"
      },
      "execution_count": 72,
      "outputs": []
    },
    {
      "cell_type": "code",
      "source": [
        "X_test.shape"
      ],
      "metadata": {
        "colab": {
          "base_uri": "https://localhost:8080/"
        },
        "id": "ds1rb7V5xNhP",
        "outputId": "6216fc39-5951-4b01-c248-25d6c40fbdc1"
      },
      "execution_count": 73,
      "outputs": [
        {
          "output_type": "execute_result",
          "data": {
            "text/plain": [
              "(13470, 5000)"
            ]
          },
          "metadata": {},
          "execution_count": 73
        }
      ]
    },
    {
      "cell_type": "code",
      "source": [
        "pred_test = classifier.predict(X_test)\n",
        "pred_test[:50]"
      ],
      "metadata": {
        "colab": {
          "base_uri": "https://localhost:8080/"
        },
        "id": "Xd4UL3qexQcQ",
        "outputId": "b92dac3c-9576-436b-d327-e6bca705f41e"
      },
      "execution_count": 74,
      "outputs": [
        {
          "output_type": "execute_result",
          "data": {
            "text/plain": [
              "array([0, 0, 1, 0, 0, 1, 0, 1, 1, 1, 0, 0, 1, 1, 1, 0, 0, 1, 1, 1, 0, 1,\n",
              "       1, 0, 1, 0, 0, 0, 0, 1, 0, 1, 0, 1, 0, 0, 0, 0, 1, 0, 0, 1, 1, 1,\n",
              "       0, 0, 1, 1, 1, 0])"
            ]
          },
          "metadata": {},
          "execution_count": 74
        }
      ]
    },
    {
      "cell_type": "code",
      "source": [
        "subject_code_preds = multi_classifier.predict(X_test)\n",
        "subject_code_preds[:50]"
      ],
      "metadata": {
        "colab": {
          "base_uri": "https://localhost:8080/"
        },
        "id": "FcBOH2kPxY_6",
        "outputId": "adab97ee-46c8-40b0-cbc6-44efab6f5315"
      },
      "execution_count": 76,
      "outputs": [
        {
          "output_type": "execute_result",
          "data": {
            "text/plain": [
              "array([0, 0, 2, 6, 7, 5, 0, 2, 5, 6, 6, 7, 6, 5, 0, 6, 5, 5, 5, 5, 0, 0,\n",
              "       5, 6, 0, 7, 0, 4, 5, 5, 5, 5, 0, 2, 5, 6, 6, 4, 0, 6, 0, 5, 0, 4,\n",
              "       0, 5, 5, 4, 0, 0], dtype=int8)"
            ]
          },
          "metadata": {},
          "execution_count": 76
        }
      ]
    },
    {
      "cell_type": "markdown",
      "source": [
        "**Calculate doc-query similarity**"
      ],
      "metadata": {
        "id": "0Pn_bQVex_P9"
      }
    },
    {
      "cell_type": "code",
      "source": [
        "titles = list(train_df.title)\n",
        "docs = list(train_df.text)\n",
        "ids = list(train_df.Id)"
      ],
      "metadata": {
        "id": "SB2X_3Ggxc_q"
      },
      "execution_count": 89,
      "outputs": []
    },
    {
      "cell_type": "code",
      "source": [
        "X = tfidf.fit_transform(docs)\n",
        "# Convert the X as transposed matrix\n",
        "X = X.T.toarray()\n",
        "# Create a DataFrame and set the vocabulary as the index\n",
        "df = pd.DataFrame(X, index=tfidf.get_feature_names_out())"
      ],
      "metadata": {
        "id": "272w8cXSyFs0"
      },
      "execution_count": 90,
      "outputs": []
    },
    {
      "cell_type": "markdown",
      "source": [
        "**Calculate similarity score between query and document**"
      ],
      "metadata": {
        "id": "jKjjObwQzz4G"
      }
    },
    {
      "cell_type": "code",
      "source": [
        "def get_similar_articles(q, df, n):\n",
        "  print(\"query:\", q)\n",
        "  print(\"search results: \")\n",
        "  ans_df = pd.DataFrame()\n",
        "  ans_title = []\n",
        "  ans_sim = []\n",
        "  ans_id = []\n",
        "\n",
        "  # Convert the query become a vector\n",
        "  q = [q]\n",
        "  q_vec = tfidf.transform(q).toarray().reshape(df.shape[0],)\n",
        "  sim = {}\n",
        "  \n",
        "  # Calculate the similarity\n",
        "  for i in range(df.shape[1]):\n",
        "    sim[i] = np.dot(df.loc[:, i].values, q_vec) / np.linalg.norm(df.loc[:, i]) * np.linalg.norm(q_vec)\n",
        "  \n",
        "  # Sort the values \n",
        "  sim_sorted = sorted(sim.items(), key=lambda x: x[1], reverse=True)\n",
        "  # Print the articles and their similarity values\n",
        "  for k, v in sim_sorted:\n",
        "    if v != 0.0:\n",
        "      # print(\"Cosine Similarity:\", v)\n",
        "      ans_sim.append(v)\n",
        "      # print(titles[k])\n",
        "      ans_title.append(titles[k])\n",
        "      ans_id.append(ids[k])\n",
        "      # print()\n",
        "  ans_df['id'] = ans_id\n",
        "  ans_df['title'] = ans_title\n",
        "  ans_df['sim'] = ans_sim\n",
        "  return ans_df[:n]"
      ],
      "metadata": {
        "id": "2vg165SAzwRj"
      },
      "execution_count": 91,
      "outputs": []
    },
    {
      "cell_type": "markdown",
      "source": [
        "**Basic search engine**"
      ],
      "metadata": {
        "id": "tLDPz2aTz-yn"
      }
    },
    {
      "cell_type": "code",
      "source": [
        "# Add The Query\n",
        "q1 = 'trump'\n",
        "\n",
        "# Get 100 similar documents\n",
        "ans = get_similar_articles(q1, df, 100)\n",
        "ans"
      ],
      "metadata": {
        "colab": {
          "base_uri": "https://localhost:8080/",
          "height": 493
        },
        "id": "0tV4gRVlz8BM",
        "outputId": "432b8b52-d7e6-4488-86b1-74c52adb9568"
      },
      "execution_count": 92,
      "outputs": [
        {
          "output_type": "stream",
          "name": "stdout",
          "text": [
            "query: trump\n",
            "search results: \n"
          ]
        },
        {
          "output_type": "stream",
          "name": "stderr",
          "text": [
            "<ipython-input-91-0977df25ba03>:16: RuntimeWarning: invalid value encountered in double_scalars\n",
            "  sim[i] = np.dot(df.loc[:, i].values, q_vec) / np.linalg.norm(df.loc[:, i]) * np.linalg.norm(q_vec)\n"
          ]
        },
        {
          "output_type": "execute_result",
          "data": {
            "text/plain": [
              "       id                                              title       sim\n",
              "0   20109   BUSTED: Steel Unions FURIOUS At Trump For Des...  0.345131\n",
              "1   33088   Leading Senator In Trump-Russia Investigation...  0.341802\n",
              "2   39856   Trump Just Got DESTROYED By J.K. Rowling For ...  0.319619\n",
              "3   16178   Greedy Trump Cuts Takes Housing Money Away Fr...  0.319383\n",
              "4   32036  Trump, Pence master delicate art of dancing to...  0.290871\n",
              "..    ...                                                ...       ...\n",
              "95  29741   Texas Cop Vows To Brutalize Any Trans Woman W...  0.036180\n",
              "96  30162  White House aims to speed U.S. drone, wireless...  0.034320\n",
              "97  26891  LOL! HYPOCRITE HILLARY Gives Speech On Evils O...  0.033109\n",
              "98  11709  CONTROVERSY AT SCHOOL After Brave Student Wear...  0.031433\n",
              "99  21247  TRUMP WAS RIGHT! Why The Heck Is This Liberal ...  0.030802\n",
              "\n",
              "[100 rows x 3 columns]"
            ],
            "text/html": [
              "\n",
              "  <div id=\"df-4ba017ac-9b9b-43ef-a072-a6905c2e7064\">\n",
              "    <div class=\"colab-df-container\">\n",
              "      <div>\n",
              "<style scoped>\n",
              "    .dataframe tbody tr th:only-of-type {\n",
              "        vertical-align: middle;\n",
              "    }\n",
              "\n",
              "    .dataframe tbody tr th {\n",
              "        vertical-align: top;\n",
              "    }\n",
              "\n",
              "    .dataframe thead th {\n",
              "        text-align: right;\n",
              "    }\n",
              "</style>\n",
              "<table border=\"1\" class=\"dataframe\">\n",
              "  <thead>\n",
              "    <tr style=\"text-align: right;\">\n",
              "      <th></th>\n",
              "      <th>id</th>\n",
              "      <th>title</th>\n",
              "      <th>sim</th>\n",
              "    </tr>\n",
              "  </thead>\n",
              "  <tbody>\n",
              "    <tr>\n",
              "      <th>0</th>\n",
              "      <td>20109</td>\n",
              "      <td>BUSTED: Steel Unions FURIOUS At Trump For Des...</td>\n",
              "      <td>0.345131</td>\n",
              "    </tr>\n",
              "    <tr>\n",
              "      <th>1</th>\n",
              "      <td>33088</td>\n",
              "      <td>Leading Senator In Trump-Russia Investigation...</td>\n",
              "      <td>0.341802</td>\n",
              "    </tr>\n",
              "    <tr>\n",
              "      <th>2</th>\n",
              "      <td>39856</td>\n",
              "      <td>Trump Just Got DESTROYED By J.K. Rowling For ...</td>\n",
              "      <td>0.319619</td>\n",
              "    </tr>\n",
              "    <tr>\n",
              "      <th>3</th>\n",
              "      <td>16178</td>\n",
              "      <td>Greedy Trump Cuts Takes Housing Money Away Fr...</td>\n",
              "      <td>0.319383</td>\n",
              "    </tr>\n",
              "    <tr>\n",
              "      <th>4</th>\n",
              "      <td>32036</td>\n",
              "      <td>Trump, Pence master delicate art of dancing to...</td>\n",
              "      <td>0.290871</td>\n",
              "    </tr>\n",
              "    <tr>\n",
              "      <th>...</th>\n",
              "      <td>...</td>\n",
              "      <td>...</td>\n",
              "      <td>...</td>\n",
              "    </tr>\n",
              "    <tr>\n",
              "      <th>95</th>\n",
              "      <td>29741</td>\n",
              "      <td>Texas Cop Vows To Brutalize Any Trans Woman W...</td>\n",
              "      <td>0.036180</td>\n",
              "    </tr>\n",
              "    <tr>\n",
              "      <th>96</th>\n",
              "      <td>30162</td>\n",
              "      <td>White House aims to speed U.S. drone, wireless...</td>\n",
              "      <td>0.034320</td>\n",
              "    </tr>\n",
              "    <tr>\n",
              "      <th>97</th>\n",
              "      <td>26891</td>\n",
              "      <td>LOL! HYPOCRITE HILLARY Gives Speech On Evils O...</td>\n",
              "      <td>0.033109</td>\n",
              "    </tr>\n",
              "    <tr>\n",
              "      <th>98</th>\n",
              "      <td>11709</td>\n",
              "      <td>CONTROVERSY AT SCHOOL After Brave Student Wear...</td>\n",
              "      <td>0.031433</td>\n",
              "    </tr>\n",
              "    <tr>\n",
              "      <th>99</th>\n",
              "      <td>21247</td>\n",
              "      <td>TRUMP WAS RIGHT! Why The Heck Is This Liberal ...</td>\n",
              "      <td>0.030802</td>\n",
              "    </tr>\n",
              "  </tbody>\n",
              "</table>\n",
              "<p>100 rows × 3 columns</p>\n",
              "</div>\n",
              "      <button class=\"colab-df-convert\" onclick=\"convertToInteractive('df-4ba017ac-9b9b-43ef-a072-a6905c2e7064')\"\n",
              "              title=\"Convert this dataframe to an interactive table.\"\n",
              "              style=\"display:none;\">\n",
              "        \n",
              "  <svg xmlns=\"http://www.w3.org/2000/svg\" height=\"24px\"viewBox=\"0 0 24 24\"\n",
              "       width=\"24px\">\n",
              "    <path d=\"M0 0h24v24H0V0z\" fill=\"none\"/>\n",
              "    <path d=\"M18.56 5.44l.94 2.06.94-2.06 2.06-.94-2.06-.94-.94-2.06-.94 2.06-2.06.94zm-11 1L8.5 8.5l.94-2.06 2.06-.94-2.06-.94L8.5 2.5l-.94 2.06-2.06.94zm10 10l.94 2.06.94-2.06 2.06-.94-2.06-.94-.94-2.06-.94 2.06-2.06.94z\"/><path d=\"M17.41 7.96l-1.37-1.37c-.4-.4-.92-.59-1.43-.59-.52 0-1.04.2-1.43.59L10.3 9.45l-7.72 7.72c-.78.78-.78 2.05 0 2.83L4 21.41c.39.39.9.59 1.41.59.51 0 1.02-.2 1.41-.59l7.78-7.78 2.81-2.81c.8-.78.8-2.07 0-2.86zM5.41 20L4 18.59l7.72-7.72 1.47 1.35L5.41 20z\"/>\n",
              "  </svg>\n",
              "      </button>\n",
              "      \n",
              "  <style>\n",
              "    .colab-df-container {\n",
              "      display:flex;\n",
              "      flex-wrap:wrap;\n",
              "      gap: 12px;\n",
              "    }\n",
              "\n",
              "    .colab-df-convert {\n",
              "      background-color: #E8F0FE;\n",
              "      border: none;\n",
              "      border-radius: 50%;\n",
              "      cursor: pointer;\n",
              "      display: none;\n",
              "      fill: #1967D2;\n",
              "      height: 32px;\n",
              "      padding: 0 0 0 0;\n",
              "      width: 32px;\n",
              "    }\n",
              "\n",
              "    .colab-df-convert:hover {\n",
              "      background-color: #E2EBFA;\n",
              "      box-shadow: 0px 1px 2px rgba(60, 64, 67, 0.3), 0px 1px 3px 1px rgba(60, 64, 67, 0.15);\n",
              "      fill: #174EA6;\n",
              "    }\n",
              "\n",
              "    [theme=dark] .colab-df-convert {\n",
              "      background-color: #3B4455;\n",
              "      fill: #D2E3FC;\n",
              "    }\n",
              "\n",
              "    [theme=dark] .colab-df-convert:hover {\n",
              "      background-color: #434B5C;\n",
              "      box-shadow: 0px 1px 3px 1px rgba(0, 0, 0, 0.15);\n",
              "      filter: drop-shadow(0px 1px 2px rgba(0, 0, 0, 0.3));\n",
              "      fill: #FFFFFF;\n",
              "    }\n",
              "  </style>\n",
              "\n",
              "      <script>\n",
              "        const buttonEl =\n",
              "          document.querySelector('#df-4ba017ac-9b9b-43ef-a072-a6905c2e7064 button.colab-df-convert');\n",
              "        buttonEl.style.display =\n",
              "          google.colab.kernel.accessAllowed ? 'block' : 'none';\n",
              "\n",
              "        async function convertToInteractive(key) {\n",
              "          const element = document.querySelector('#df-4ba017ac-9b9b-43ef-a072-a6905c2e7064');\n",
              "          const dataTable =\n",
              "            await google.colab.kernel.invokeFunction('convertToInteractive',\n",
              "                                                     [key], {});\n",
              "          if (!dataTable) return;\n",
              "\n",
              "          const docLinkHtml = 'Like what you see? Visit the ' +\n",
              "            '<a target=\"_blank\" href=https://colab.research.google.com/notebooks/data_table.ipynb>data table notebook</a>'\n",
              "            + ' to learn more about interactive tables.';\n",
              "          element.innerHTML = '';\n",
              "          dataTable['output_type'] = 'display_data';\n",
              "          await google.colab.output.renderOutput(dataTable, element);\n",
              "          const docLink = document.createElement('div');\n",
              "          docLink.innerHTML = docLinkHtml;\n",
              "          element.appendChild(docLink);\n",
              "        }\n",
              "      </script>\n",
              "    </div>\n",
              "  </div>\n",
              "  "
            ]
          },
          "metadata": {},
          "execution_count": 92
        }
      ]
    },
    {
      "cell_type": "code",
      "source": [
        "# Get topic of query\n",
        "def get_query_class(q):\n",
        "  q = [q]\n",
        "  q_vec = tfidf.transform(q).toarray()\n",
        "  subj_class = multi_classifier.predict(q_vec)\n",
        "  print(subj_class)\n",
        "  return subj_class"
      ],
      "metadata": {
        "id": "23IqGpBi0BEi"
      },
      "execution_count": 93,
      "outputs": []
    },
    {
      "cell_type": "code",
      "source": [
        "query_topic = get_query_class(q1)\n",
        "\n",
        "# Get similar documents from predicted label dataset\n",
        "result_ids = list(ans.id)\n",
        "ans_code = train_df[[True if i in result_ids else False for i in train_df.Id] ][[\"Id\",\"subject_code\",\"label\"]]\n",
        "ans_code.head()"
      ],
      "metadata": {
        "colab": {
          "base_uri": "https://localhost:8080/",
          "height": 223
        },
        "id": "bOX6afAK0Gli",
        "outputId": "1325390c-da17-4050-c114-a30a9d134699"
      },
      "execution_count": 94,
      "outputs": [
        {
          "output_type": "stream",
          "name": "stdout",
          "text": [
            "[2]\n"
          ]
        },
        {
          "output_type": "execute_result",
          "data": {
            "text/plain": [
              "      Id  subject_code  label\n",
              "0  13970             2      1\n",
              "2  26810             2      1\n",
              "5   7209             5      1\n",
              "7  41384             5      1\n",
              "8  34361             6      0"
            ],
            "text/html": [
              "\n",
              "  <div id=\"df-7acef111-0b96-4b59-b3ca-38cd3453216b\">\n",
              "    <div class=\"colab-df-container\">\n",
              "      <div>\n",
              "<style scoped>\n",
              "    .dataframe tbody tr th:only-of-type {\n",
              "        vertical-align: middle;\n",
              "    }\n",
              "\n",
              "    .dataframe tbody tr th {\n",
              "        vertical-align: top;\n",
              "    }\n",
              "\n",
              "    .dataframe thead th {\n",
              "        text-align: right;\n",
              "    }\n",
              "</style>\n",
              "<table border=\"1\" class=\"dataframe\">\n",
              "  <thead>\n",
              "    <tr style=\"text-align: right;\">\n",
              "      <th></th>\n",
              "      <th>Id</th>\n",
              "      <th>subject_code</th>\n",
              "      <th>label</th>\n",
              "    </tr>\n",
              "  </thead>\n",
              "  <tbody>\n",
              "    <tr>\n",
              "      <th>0</th>\n",
              "      <td>13970</td>\n",
              "      <td>2</td>\n",
              "      <td>1</td>\n",
              "    </tr>\n",
              "    <tr>\n",
              "      <th>2</th>\n",
              "      <td>26810</td>\n",
              "      <td>2</td>\n",
              "      <td>1</td>\n",
              "    </tr>\n",
              "    <tr>\n",
              "      <th>5</th>\n",
              "      <td>7209</td>\n",
              "      <td>5</td>\n",
              "      <td>1</td>\n",
              "    </tr>\n",
              "    <tr>\n",
              "      <th>7</th>\n",
              "      <td>41384</td>\n",
              "      <td>5</td>\n",
              "      <td>1</td>\n",
              "    </tr>\n",
              "    <tr>\n",
              "      <th>8</th>\n",
              "      <td>34361</td>\n",
              "      <td>6</td>\n",
              "      <td>0</td>\n",
              "    </tr>\n",
              "  </tbody>\n",
              "</table>\n",
              "</div>\n",
              "      <button class=\"colab-df-convert\" onclick=\"convertToInteractive('df-7acef111-0b96-4b59-b3ca-38cd3453216b')\"\n",
              "              title=\"Convert this dataframe to an interactive table.\"\n",
              "              style=\"display:none;\">\n",
              "        \n",
              "  <svg xmlns=\"http://www.w3.org/2000/svg\" height=\"24px\"viewBox=\"0 0 24 24\"\n",
              "       width=\"24px\">\n",
              "    <path d=\"M0 0h24v24H0V0z\" fill=\"none\"/>\n",
              "    <path d=\"M18.56 5.44l.94 2.06.94-2.06 2.06-.94-2.06-.94-.94-2.06-.94 2.06-2.06.94zm-11 1L8.5 8.5l.94-2.06 2.06-.94-2.06-.94L8.5 2.5l-.94 2.06-2.06.94zm10 10l.94 2.06.94-2.06 2.06-.94-2.06-.94-.94-2.06-.94 2.06-2.06.94z\"/><path d=\"M17.41 7.96l-1.37-1.37c-.4-.4-.92-.59-1.43-.59-.52 0-1.04.2-1.43.59L10.3 9.45l-7.72 7.72c-.78.78-.78 2.05 0 2.83L4 21.41c.39.39.9.59 1.41.59.51 0 1.02-.2 1.41-.59l7.78-7.78 2.81-2.81c.8-.78.8-2.07 0-2.86zM5.41 20L4 18.59l7.72-7.72 1.47 1.35L5.41 20z\"/>\n",
              "  </svg>\n",
              "      </button>\n",
              "      \n",
              "  <style>\n",
              "    .colab-df-container {\n",
              "      display:flex;\n",
              "      flex-wrap:wrap;\n",
              "      gap: 12px;\n",
              "    }\n",
              "\n",
              "    .colab-df-convert {\n",
              "      background-color: #E8F0FE;\n",
              "      border: none;\n",
              "      border-radius: 50%;\n",
              "      cursor: pointer;\n",
              "      display: none;\n",
              "      fill: #1967D2;\n",
              "      height: 32px;\n",
              "      padding: 0 0 0 0;\n",
              "      width: 32px;\n",
              "    }\n",
              "\n",
              "    .colab-df-convert:hover {\n",
              "      background-color: #E2EBFA;\n",
              "      box-shadow: 0px 1px 2px rgba(60, 64, 67, 0.3), 0px 1px 3px 1px rgba(60, 64, 67, 0.15);\n",
              "      fill: #174EA6;\n",
              "    }\n",
              "\n",
              "    [theme=dark] .colab-df-convert {\n",
              "      background-color: #3B4455;\n",
              "      fill: #D2E3FC;\n",
              "    }\n",
              "\n",
              "    [theme=dark] .colab-df-convert:hover {\n",
              "      background-color: #434B5C;\n",
              "      box-shadow: 0px 1px 3px 1px rgba(0, 0, 0, 0.15);\n",
              "      filter: drop-shadow(0px 1px 2px rgba(0, 0, 0, 0.3));\n",
              "      fill: #FFFFFF;\n",
              "    }\n",
              "  </style>\n",
              "\n",
              "      <script>\n",
              "        const buttonEl =\n",
              "          document.querySelector('#df-7acef111-0b96-4b59-b3ca-38cd3453216b button.colab-df-convert');\n",
              "        buttonEl.style.display =\n",
              "          google.colab.kernel.accessAllowed ? 'block' : 'none';\n",
              "\n",
              "        async function convertToInteractive(key) {\n",
              "          const element = document.querySelector('#df-7acef111-0b96-4b59-b3ca-38cd3453216b');\n",
              "          const dataTable =\n",
              "            await google.colab.kernel.invokeFunction('convertToInteractive',\n",
              "                                                     [key], {});\n",
              "          if (!dataTable) return;\n",
              "\n",
              "          const docLinkHtml = 'Like what you see? Visit the ' +\n",
              "            '<a target=\"_blank\" href=https://colab.research.google.com/notebooks/data_table.ipynb>data table notebook</a>'\n",
              "            + ' to learn more about interactive tables.';\n",
              "          element.innerHTML = '';\n",
              "          dataTable['output_type'] = 'display_data';\n",
              "          await google.colab.output.renderOutput(dataTable, element);\n",
              "          const docLink = document.createElement('div');\n",
              "          docLink.innerHTML = docLinkHtml;\n",
              "          element.appendChild(docLink);\n",
              "        }\n",
              "      </script>\n",
              "    </div>\n",
              "  </div>\n",
              "  "
            ]
          },
          "metadata": {},
          "execution_count": 94
        }
      ]
    },
    {
      "cell_type": "code",
      "source": [
        "docs_retreived = pd.merge(ans,ans_code, left_on=[\"id\"], right_on=[\"Id\"])\n",
        "docs_retreived"
      ],
      "metadata": {
        "colab": {
          "base_uri": "https://localhost:8080/",
          "height": 424
        },
        "id": "CSpWQo4D0P-8",
        "outputId": "01faad15-af4f-4ac8-ece2-54e149ceb41d"
      },
      "execution_count": 95,
      "outputs": [
        {
          "output_type": "execute_result",
          "data": {
            "text/plain": [
              "       id                                              title       sim     Id  \\\n",
              "0   20109   BUSTED: Steel Unions FURIOUS At Trump For Des...  0.345131  20109   \n",
              "1   33088   Leading Senator In Trump-Russia Investigation...  0.341802  33088   \n",
              "2   39856   Trump Just Got DESTROYED By J.K. Rowling For ...  0.319619  39856   \n",
              "3   16178   Greedy Trump Cuts Takes Housing Money Away Fr...  0.319383  16178   \n",
              "4   32036  Trump, Pence master delicate art of dancing to...  0.290871  32036   \n",
              "..    ...                                                ...       ...    ...   \n",
              "95  29741   Texas Cop Vows To Brutalize Any Trans Woman W...  0.036180  29741   \n",
              "96  30162  White House aims to speed U.S. drone, wireless...  0.034320  30162   \n",
              "97  26891  LOL! HYPOCRITE HILLARY Gives Speech On Evils O...  0.033109  26891   \n",
              "98  11709  CONTROVERSY AT SCHOOL After Brave Student Wear...  0.031433  11709   \n",
              "99  21247  TRUMP WAS RIGHT! Why The Heck Is This Liberal ...  0.030802  21247   \n",
              "\n",
              "    subject_code  label  \n",
              "0              2      1  \n",
              "1              2      1  \n",
              "2              2      1  \n",
              "3              2      1  \n",
              "4              6      0  \n",
              "..           ...    ...  \n",
              "95             2      1  \n",
              "96             6      0  \n",
              "97             5      1  \n",
              "98             5      1  \n",
              "99             5      1  \n",
              "\n",
              "[100 rows x 6 columns]"
            ],
            "text/html": [
              "\n",
              "  <div id=\"df-c9e2084a-09ed-49cc-b810-4321f5d04ccf\">\n",
              "    <div class=\"colab-df-container\">\n",
              "      <div>\n",
              "<style scoped>\n",
              "    .dataframe tbody tr th:only-of-type {\n",
              "        vertical-align: middle;\n",
              "    }\n",
              "\n",
              "    .dataframe tbody tr th {\n",
              "        vertical-align: top;\n",
              "    }\n",
              "\n",
              "    .dataframe thead th {\n",
              "        text-align: right;\n",
              "    }\n",
              "</style>\n",
              "<table border=\"1\" class=\"dataframe\">\n",
              "  <thead>\n",
              "    <tr style=\"text-align: right;\">\n",
              "      <th></th>\n",
              "      <th>id</th>\n",
              "      <th>title</th>\n",
              "      <th>sim</th>\n",
              "      <th>Id</th>\n",
              "      <th>subject_code</th>\n",
              "      <th>label</th>\n",
              "    </tr>\n",
              "  </thead>\n",
              "  <tbody>\n",
              "    <tr>\n",
              "      <th>0</th>\n",
              "      <td>20109</td>\n",
              "      <td>BUSTED: Steel Unions FURIOUS At Trump For Des...</td>\n",
              "      <td>0.345131</td>\n",
              "      <td>20109</td>\n",
              "      <td>2</td>\n",
              "      <td>1</td>\n",
              "    </tr>\n",
              "    <tr>\n",
              "      <th>1</th>\n",
              "      <td>33088</td>\n",
              "      <td>Leading Senator In Trump-Russia Investigation...</td>\n",
              "      <td>0.341802</td>\n",
              "      <td>33088</td>\n",
              "      <td>2</td>\n",
              "      <td>1</td>\n",
              "    </tr>\n",
              "    <tr>\n",
              "      <th>2</th>\n",
              "      <td>39856</td>\n",
              "      <td>Trump Just Got DESTROYED By J.K. Rowling For ...</td>\n",
              "      <td>0.319619</td>\n",
              "      <td>39856</td>\n",
              "      <td>2</td>\n",
              "      <td>1</td>\n",
              "    </tr>\n",
              "    <tr>\n",
              "      <th>3</th>\n",
              "      <td>16178</td>\n",
              "      <td>Greedy Trump Cuts Takes Housing Money Away Fr...</td>\n",
              "      <td>0.319383</td>\n",
              "      <td>16178</td>\n",
              "      <td>2</td>\n",
              "      <td>1</td>\n",
              "    </tr>\n",
              "    <tr>\n",
              "      <th>4</th>\n",
              "      <td>32036</td>\n",
              "      <td>Trump, Pence master delicate art of dancing to...</td>\n",
              "      <td>0.290871</td>\n",
              "      <td>32036</td>\n",
              "      <td>6</td>\n",
              "      <td>0</td>\n",
              "    </tr>\n",
              "    <tr>\n",
              "      <th>...</th>\n",
              "      <td>...</td>\n",
              "      <td>...</td>\n",
              "      <td>...</td>\n",
              "      <td>...</td>\n",
              "      <td>...</td>\n",
              "      <td>...</td>\n",
              "    </tr>\n",
              "    <tr>\n",
              "      <th>95</th>\n",
              "      <td>29741</td>\n",
              "      <td>Texas Cop Vows To Brutalize Any Trans Woman W...</td>\n",
              "      <td>0.036180</td>\n",
              "      <td>29741</td>\n",
              "      <td>2</td>\n",
              "      <td>1</td>\n",
              "    </tr>\n",
              "    <tr>\n",
              "      <th>96</th>\n",
              "      <td>30162</td>\n",
              "      <td>White House aims to speed U.S. drone, wireless...</td>\n",
              "      <td>0.034320</td>\n",
              "      <td>30162</td>\n",
              "      <td>6</td>\n",
              "      <td>0</td>\n",
              "    </tr>\n",
              "    <tr>\n",
              "      <th>97</th>\n",
              "      <td>26891</td>\n",
              "      <td>LOL! HYPOCRITE HILLARY Gives Speech On Evils O...</td>\n",
              "      <td>0.033109</td>\n",
              "      <td>26891</td>\n",
              "      <td>5</td>\n",
              "      <td>1</td>\n",
              "    </tr>\n",
              "    <tr>\n",
              "      <th>98</th>\n",
              "      <td>11709</td>\n",
              "      <td>CONTROVERSY AT SCHOOL After Brave Student Wear...</td>\n",
              "      <td>0.031433</td>\n",
              "      <td>11709</td>\n",
              "      <td>5</td>\n",
              "      <td>1</td>\n",
              "    </tr>\n",
              "    <tr>\n",
              "      <th>99</th>\n",
              "      <td>21247</td>\n",
              "      <td>TRUMP WAS RIGHT! Why The Heck Is This Liberal ...</td>\n",
              "      <td>0.030802</td>\n",
              "      <td>21247</td>\n",
              "      <td>5</td>\n",
              "      <td>1</td>\n",
              "    </tr>\n",
              "  </tbody>\n",
              "</table>\n",
              "<p>100 rows × 6 columns</p>\n",
              "</div>\n",
              "      <button class=\"colab-df-convert\" onclick=\"convertToInteractive('df-c9e2084a-09ed-49cc-b810-4321f5d04ccf')\"\n",
              "              title=\"Convert this dataframe to an interactive table.\"\n",
              "              style=\"display:none;\">\n",
              "        \n",
              "  <svg xmlns=\"http://www.w3.org/2000/svg\" height=\"24px\"viewBox=\"0 0 24 24\"\n",
              "       width=\"24px\">\n",
              "    <path d=\"M0 0h24v24H0V0z\" fill=\"none\"/>\n",
              "    <path d=\"M18.56 5.44l.94 2.06.94-2.06 2.06-.94-2.06-.94-.94-2.06-.94 2.06-2.06.94zm-11 1L8.5 8.5l.94-2.06 2.06-.94-2.06-.94L8.5 2.5l-.94 2.06-2.06.94zm10 10l.94 2.06.94-2.06 2.06-.94-2.06-.94-.94-2.06-.94 2.06-2.06.94z\"/><path d=\"M17.41 7.96l-1.37-1.37c-.4-.4-.92-.59-1.43-.59-.52 0-1.04.2-1.43.59L10.3 9.45l-7.72 7.72c-.78.78-.78 2.05 0 2.83L4 21.41c.39.39.9.59 1.41.59.51 0 1.02-.2 1.41-.59l7.78-7.78 2.81-2.81c.8-.78.8-2.07 0-2.86zM5.41 20L4 18.59l7.72-7.72 1.47 1.35L5.41 20z\"/>\n",
              "  </svg>\n",
              "      </button>\n",
              "      \n",
              "  <style>\n",
              "    .colab-df-container {\n",
              "      display:flex;\n",
              "      flex-wrap:wrap;\n",
              "      gap: 12px;\n",
              "    }\n",
              "\n",
              "    .colab-df-convert {\n",
              "      background-color: #E8F0FE;\n",
              "      border: none;\n",
              "      border-radius: 50%;\n",
              "      cursor: pointer;\n",
              "      display: none;\n",
              "      fill: #1967D2;\n",
              "      height: 32px;\n",
              "      padding: 0 0 0 0;\n",
              "      width: 32px;\n",
              "    }\n",
              "\n",
              "    .colab-df-convert:hover {\n",
              "      background-color: #E2EBFA;\n",
              "      box-shadow: 0px 1px 2px rgba(60, 64, 67, 0.3), 0px 1px 3px 1px rgba(60, 64, 67, 0.15);\n",
              "      fill: #174EA6;\n",
              "    }\n",
              "\n",
              "    [theme=dark] .colab-df-convert {\n",
              "      background-color: #3B4455;\n",
              "      fill: #D2E3FC;\n",
              "    }\n",
              "\n",
              "    [theme=dark] .colab-df-convert:hover {\n",
              "      background-color: #434B5C;\n",
              "      box-shadow: 0px 1px 3px 1px rgba(0, 0, 0, 0.15);\n",
              "      filter: drop-shadow(0px 1px 2px rgba(0, 0, 0, 0.3));\n",
              "      fill: #FFFFFF;\n",
              "    }\n",
              "  </style>\n",
              "\n",
              "      <script>\n",
              "        const buttonEl =\n",
              "          document.querySelector('#df-c9e2084a-09ed-49cc-b810-4321f5d04ccf button.colab-df-convert');\n",
              "        buttonEl.style.display =\n",
              "          google.colab.kernel.accessAllowed ? 'block' : 'none';\n",
              "\n",
              "        async function convertToInteractive(key) {\n",
              "          const element = document.querySelector('#df-c9e2084a-09ed-49cc-b810-4321f5d04ccf');\n",
              "          const dataTable =\n",
              "            await google.colab.kernel.invokeFunction('convertToInteractive',\n",
              "                                                     [key], {});\n",
              "          if (!dataTable) return;\n",
              "\n",
              "          const docLinkHtml = 'Like what you see? Visit the ' +\n",
              "            '<a target=\"_blank\" href=https://colab.research.google.com/notebooks/data_table.ipynb>data table notebook</a>'\n",
              "            + ' to learn more about interactive tables.';\n",
              "          element.innerHTML = '';\n",
              "          dataTable['output_type'] = 'display_data';\n",
              "          await google.colab.output.renderOutput(dataTable, element);\n",
              "          const docLink = document.createElement('div');\n",
              "          docLink.innerHTML = docLinkHtml;\n",
              "          element.appendChild(docLink);\n",
              "        }\n",
              "      </script>\n",
              "    </div>\n",
              "  </div>\n",
              "  "
            ]
          },
          "metadata": {},
          "execution_count": 95
        }
      ]
    },
    {
      "cell_type": "code",
      "source": [
        "class_labs = list(docs_retreived.label)\n",
        "fact_filtered = docs_retreived[[True if i == 1 else False for i in class_labs]]\n",
        "\n",
        "subj_labs = list(docs_retreived.subject_code)\n",
        "topic_filtered = docs_retreived[[True if i == query_topic else False for i in subj_labs]][[\"id\",\"title\"]]\n",
        "\n",
        "topic_filtered"
      ],
      "metadata": {
        "colab": {
          "base_uri": "https://localhost:8080/",
          "height": 1000
        },
        "id": "mklwiBv803Ym",
        "outputId": "585d896b-9880-4ae5-f2d4-8e542677d259"
      },
      "execution_count": 97,
      "outputs": [
        {
          "output_type": "execute_result",
          "data": {
            "text/plain": [
              "       id                                              title\n",
              "0   20109   BUSTED: Steel Unions FURIOUS At Trump For Des...\n",
              "1   33088   Leading Senator In Trump-Russia Investigation...\n",
              "2   39856   Trump Just Got DESTROYED By J.K. Rowling For ...\n",
              "3   16178   Greedy Trump Cuts Takes Housing Money Away Fr...\n",
              "5   23254   Gawker Fools Trump Into Quoting Genocidal Man...\n",
              "7   26810   Trump’s Excuse For All His Sexist Statements ...\n",
              "8   13970   WATCH: Paul Manafort Gets DESTROYED On CNN Fo...\n",
              "9    8318   Warren Buffett Knows Exactly Why Trump’s Camp...\n",
              "10   5086   Billionaire Richard Branson Breaks Silence Ab...\n",
              "11  32545   CNN And MSNBC Destroy Trump, Black Out His Fa...\n",
              "12   2932   Hillary’s Campaign Account Hasn’t Tweeted Sin...\n",
              "17   7174   SHAME: Proof Trump Doesn’t Care About Militar...\n",
              "19  11684   Trump Still Isn’t Convinced Russia Interfered...\n",
              "21   2084   Donald Trump Has Become So Toxic That He Can’...\n",
              "24  11598   Donald Trump Is Destroying The Country’s Repu...\n",
              "28   9998   BREAKING: Sessions Lied, Discussed Trump Camp...\n",
              "35   4272   Sean Hannity Goes Apesh*t Over Trump As Caesa...\n",
              "44  41627   Paul Ryan Is So Unpopular Even 8th Graders Re...\n",
              "46  17702   Watch Bernie Sanders Slam The Hell Out Of Rep...\n",
              "51   5763   Actress Salma Hayek Perfectly BURNS Trump For...\n",
              "54    353   The Republican Jewish Coalition Loves Trump S...\n",
              "55  38522   Trump Gets P*SSED As TODAY Hosts Slam His ‘Ly...\n",
              "72  32717   Nobody Likes Donald Trump, And These Three DE...\n",
              "75  19594   Trump Is Literally Causing Business Owners To...\n",
              "76   3272   Chelsea Handler Hilariously Trashes Trump’s S...\n",
              "77  38350   Trump’s Biggest KKK Fan Is Back, And He Just ...\n",
              "79  41191   Sean Spicer Just Gave ‘Alternative Facts’ Abo...\n",
              "81  27218   Donald Trump Tries To Spin ‘Second Amendment’...\n",
              "88  35729   WATCH: Trump Aide Asks CRAZIEST Question Ever...\n",
              "90  42957   WATCH: We Found Donald Trump’s Campaign Theme...\n",
              "95  29741   Texas Cop Vows To Brutalize Any Trans Woman W..."
            ],
            "text/html": [
              "\n",
              "  <div id=\"df-5b7fb9b2-25b1-46da-8081-2c600f082a7f\">\n",
              "    <div class=\"colab-df-container\">\n",
              "      <div>\n",
              "<style scoped>\n",
              "    .dataframe tbody tr th:only-of-type {\n",
              "        vertical-align: middle;\n",
              "    }\n",
              "\n",
              "    .dataframe tbody tr th {\n",
              "        vertical-align: top;\n",
              "    }\n",
              "\n",
              "    .dataframe thead th {\n",
              "        text-align: right;\n",
              "    }\n",
              "</style>\n",
              "<table border=\"1\" class=\"dataframe\">\n",
              "  <thead>\n",
              "    <tr style=\"text-align: right;\">\n",
              "      <th></th>\n",
              "      <th>id</th>\n",
              "      <th>title</th>\n",
              "    </tr>\n",
              "  </thead>\n",
              "  <tbody>\n",
              "    <tr>\n",
              "      <th>0</th>\n",
              "      <td>20109</td>\n",
              "      <td>BUSTED: Steel Unions FURIOUS At Trump For Des...</td>\n",
              "    </tr>\n",
              "    <tr>\n",
              "      <th>1</th>\n",
              "      <td>33088</td>\n",
              "      <td>Leading Senator In Trump-Russia Investigation...</td>\n",
              "    </tr>\n",
              "    <tr>\n",
              "      <th>2</th>\n",
              "      <td>39856</td>\n",
              "      <td>Trump Just Got DESTROYED By J.K. Rowling For ...</td>\n",
              "    </tr>\n",
              "    <tr>\n",
              "      <th>3</th>\n",
              "      <td>16178</td>\n",
              "      <td>Greedy Trump Cuts Takes Housing Money Away Fr...</td>\n",
              "    </tr>\n",
              "    <tr>\n",
              "      <th>5</th>\n",
              "      <td>23254</td>\n",
              "      <td>Gawker Fools Trump Into Quoting Genocidal Man...</td>\n",
              "    </tr>\n",
              "    <tr>\n",
              "      <th>7</th>\n",
              "      <td>26810</td>\n",
              "      <td>Trump’s Excuse For All His Sexist Statements ...</td>\n",
              "    </tr>\n",
              "    <tr>\n",
              "      <th>8</th>\n",
              "      <td>13970</td>\n",
              "      <td>WATCH: Paul Manafort Gets DESTROYED On CNN Fo...</td>\n",
              "    </tr>\n",
              "    <tr>\n",
              "      <th>9</th>\n",
              "      <td>8318</td>\n",
              "      <td>Warren Buffett Knows Exactly Why Trump’s Camp...</td>\n",
              "    </tr>\n",
              "    <tr>\n",
              "      <th>10</th>\n",
              "      <td>5086</td>\n",
              "      <td>Billionaire Richard Branson Breaks Silence Ab...</td>\n",
              "    </tr>\n",
              "    <tr>\n",
              "      <th>11</th>\n",
              "      <td>32545</td>\n",
              "      <td>CNN And MSNBC Destroy Trump, Black Out His Fa...</td>\n",
              "    </tr>\n",
              "    <tr>\n",
              "      <th>12</th>\n",
              "      <td>2932</td>\n",
              "      <td>Hillary’s Campaign Account Hasn’t Tweeted Sin...</td>\n",
              "    </tr>\n",
              "    <tr>\n",
              "      <th>17</th>\n",
              "      <td>7174</td>\n",
              "      <td>SHAME: Proof Trump Doesn’t Care About Militar...</td>\n",
              "    </tr>\n",
              "    <tr>\n",
              "      <th>19</th>\n",
              "      <td>11684</td>\n",
              "      <td>Trump Still Isn’t Convinced Russia Interfered...</td>\n",
              "    </tr>\n",
              "    <tr>\n",
              "      <th>21</th>\n",
              "      <td>2084</td>\n",
              "      <td>Donald Trump Has Become So Toxic That He Can’...</td>\n",
              "    </tr>\n",
              "    <tr>\n",
              "      <th>24</th>\n",
              "      <td>11598</td>\n",
              "      <td>Donald Trump Is Destroying The Country’s Repu...</td>\n",
              "    </tr>\n",
              "    <tr>\n",
              "      <th>28</th>\n",
              "      <td>9998</td>\n",
              "      <td>BREAKING: Sessions Lied, Discussed Trump Camp...</td>\n",
              "    </tr>\n",
              "    <tr>\n",
              "      <th>35</th>\n",
              "      <td>4272</td>\n",
              "      <td>Sean Hannity Goes Apesh*t Over Trump As Caesa...</td>\n",
              "    </tr>\n",
              "    <tr>\n",
              "      <th>44</th>\n",
              "      <td>41627</td>\n",
              "      <td>Paul Ryan Is So Unpopular Even 8th Graders Re...</td>\n",
              "    </tr>\n",
              "    <tr>\n",
              "      <th>46</th>\n",
              "      <td>17702</td>\n",
              "      <td>Watch Bernie Sanders Slam The Hell Out Of Rep...</td>\n",
              "    </tr>\n",
              "    <tr>\n",
              "      <th>51</th>\n",
              "      <td>5763</td>\n",
              "      <td>Actress Salma Hayek Perfectly BURNS Trump For...</td>\n",
              "    </tr>\n",
              "    <tr>\n",
              "      <th>54</th>\n",
              "      <td>353</td>\n",
              "      <td>The Republican Jewish Coalition Loves Trump S...</td>\n",
              "    </tr>\n",
              "    <tr>\n",
              "      <th>55</th>\n",
              "      <td>38522</td>\n",
              "      <td>Trump Gets P*SSED As TODAY Hosts Slam His ‘Ly...</td>\n",
              "    </tr>\n",
              "    <tr>\n",
              "      <th>72</th>\n",
              "      <td>32717</td>\n",
              "      <td>Nobody Likes Donald Trump, And These Three DE...</td>\n",
              "    </tr>\n",
              "    <tr>\n",
              "      <th>75</th>\n",
              "      <td>19594</td>\n",
              "      <td>Trump Is Literally Causing Business Owners To...</td>\n",
              "    </tr>\n",
              "    <tr>\n",
              "      <th>76</th>\n",
              "      <td>3272</td>\n",
              "      <td>Chelsea Handler Hilariously Trashes Trump’s S...</td>\n",
              "    </tr>\n",
              "    <tr>\n",
              "      <th>77</th>\n",
              "      <td>38350</td>\n",
              "      <td>Trump’s Biggest KKK Fan Is Back, And He Just ...</td>\n",
              "    </tr>\n",
              "    <tr>\n",
              "      <th>79</th>\n",
              "      <td>41191</td>\n",
              "      <td>Sean Spicer Just Gave ‘Alternative Facts’ Abo...</td>\n",
              "    </tr>\n",
              "    <tr>\n",
              "      <th>81</th>\n",
              "      <td>27218</td>\n",
              "      <td>Donald Trump Tries To Spin ‘Second Amendment’...</td>\n",
              "    </tr>\n",
              "    <tr>\n",
              "      <th>88</th>\n",
              "      <td>35729</td>\n",
              "      <td>WATCH: Trump Aide Asks CRAZIEST Question Ever...</td>\n",
              "    </tr>\n",
              "    <tr>\n",
              "      <th>90</th>\n",
              "      <td>42957</td>\n",
              "      <td>WATCH: We Found Donald Trump’s Campaign Theme...</td>\n",
              "    </tr>\n",
              "    <tr>\n",
              "      <th>95</th>\n",
              "      <td>29741</td>\n",
              "      <td>Texas Cop Vows To Brutalize Any Trans Woman W...</td>\n",
              "    </tr>\n",
              "  </tbody>\n",
              "</table>\n",
              "</div>\n",
              "      <button class=\"colab-df-convert\" onclick=\"convertToInteractive('df-5b7fb9b2-25b1-46da-8081-2c600f082a7f')\"\n",
              "              title=\"Convert this dataframe to an interactive table.\"\n",
              "              style=\"display:none;\">\n",
              "        \n",
              "  <svg xmlns=\"http://www.w3.org/2000/svg\" height=\"24px\"viewBox=\"0 0 24 24\"\n",
              "       width=\"24px\">\n",
              "    <path d=\"M0 0h24v24H0V0z\" fill=\"none\"/>\n",
              "    <path d=\"M18.56 5.44l.94 2.06.94-2.06 2.06-.94-2.06-.94-.94-2.06-.94 2.06-2.06.94zm-11 1L8.5 8.5l.94-2.06 2.06-.94-2.06-.94L8.5 2.5l-.94 2.06-2.06.94zm10 10l.94 2.06.94-2.06 2.06-.94-2.06-.94-.94-2.06-.94 2.06-2.06.94z\"/><path d=\"M17.41 7.96l-1.37-1.37c-.4-.4-.92-.59-1.43-.59-.52 0-1.04.2-1.43.59L10.3 9.45l-7.72 7.72c-.78.78-.78 2.05 0 2.83L4 21.41c.39.39.9.59 1.41.59.51 0 1.02-.2 1.41-.59l7.78-7.78 2.81-2.81c.8-.78.8-2.07 0-2.86zM5.41 20L4 18.59l7.72-7.72 1.47 1.35L5.41 20z\"/>\n",
              "  </svg>\n",
              "      </button>\n",
              "      \n",
              "  <style>\n",
              "    .colab-df-container {\n",
              "      display:flex;\n",
              "      flex-wrap:wrap;\n",
              "      gap: 12px;\n",
              "    }\n",
              "\n",
              "    .colab-df-convert {\n",
              "      background-color: #E8F0FE;\n",
              "      border: none;\n",
              "      border-radius: 50%;\n",
              "      cursor: pointer;\n",
              "      display: none;\n",
              "      fill: #1967D2;\n",
              "      height: 32px;\n",
              "      padding: 0 0 0 0;\n",
              "      width: 32px;\n",
              "    }\n",
              "\n",
              "    .colab-df-convert:hover {\n",
              "      background-color: #E2EBFA;\n",
              "      box-shadow: 0px 1px 2px rgba(60, 64, 67, 0.3), 0px 1px 3px 1px rgba(60, 64, 67, 0.15);\n",
              "      fill: #174EA6;\n",
              "    }\n",
              "\n",
              "    [theme=dark] .colab-df-convert {\n",
              "      background-color: #3B4455;\n",
              "      fill: #D2E3FC;\n",
              "    }\n",
              "\n",
              "    [theme=dark] .colab-df-convert:hover {\n",
              "      background-color: #434B5C;\n",
              "      box-shadow: 0px 1px 3px 1px rgba(0, 0, 0, 0.15);\n",
              "      filter: drop-shadow(0px 1px 2px rgba(0, 0, 0, 0.3));\n",
              "      fill: #FFFFFF;\n",
              "    }\n",
              "  </style>\n",
              "\n",
              "      <script>\n",
              "        const buttonEl =\n",
              "          document.querySelector('#df-5b7fb9b2-25b1-46da-8081-2c600f082a7f button.colab-df-convert');\n",
              "        buttonEl.style.display =\n",
              "          google.colab.kernel.accessAllowed ? 'block' : 'none';\n",
              "\n",
              "        async function convertToInteractive(key) {\n",
              "          const element = document.querySelector('#df-5b7fb9b2-25b1-46da-8081-2c600f082a7f');\n",
              "          const dataTable =\n",
              "            await google.colab.kernel.invokeFunction('convertToInteractive',\n",
              "                                                     [key], {});\n",
              "          if (!dataTable) return;\n",
              "\n",
              "          const docLinkHtml = 'Like what you see? Visit the ' +\n",
              "            '<a target=\"_blank\" href=https://colab.research.google.com/notebooks/data_table.ipynb>data table notebook</a>'\n",
              "            + ' to learn more about interactive tables.';\n",
              "          element.innerHTML = '';\n",
              "          dataTable['output_type'] = 'display_data';\n",
              "          await google.colab.output.renderOutput(dataTable, element);\n",
              "          const docLink = document.createElement('div');\n",
              "          docLink.innerHTML = docLinkHtml;\n",
              "          element.appendChild(docLink);\n",
              "        }\n",
              "      </script>\n",
              "    </div>\n",
              "  </div>\n",
              "  "
            ]
          },
          "metadata": {},
          "execution_count": 97
        }
      ]
    },
    {
      "cell_type": "code",
      "source": [],
      "metadata": {
        "id": "IDysVjn807Uc"
      },
      "execution_count": null,
      "outputs": []
    }
  ]
}