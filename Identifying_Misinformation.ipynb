{
  "nbformat": 4,
  "nbformat_minor": 0,
  "metadata": {
    "colab": {
      "provenance": [],
      "mount_file_id": "1SEZ4Tj39eM-Z4L_ZOtzY__xHi5KamtuE",
      "authorship_tag": "ABX9TyObWajuyZLsPF675AY99O46",
      "include_colab_link": true
    },
    "kernelspec": {
      "name": "python3",
      "display_name": "Python 3"
    },
    "language_info": {
      "name": "python"
    }
  },
  "cells": [
    {
      "cell_type": "markdown",
      "metadata": {
        "id": "view-in-github",
        "colab_type": "text"
      },
      "source": [
        "<a href=\"https://colab.research.google.com/github/anishathakrar/Identifying_Misinformation_IR/blob/main/Identifying_Misinformation.ipynb\" target=\"_parent\"><img src=\"https://colab.research.google.com/assets/colab-badge.svg\" alt=\"Open In Colab\"/></a>"
      ]
    },
    {
      "cell_type": "code",
      "source": [
        "from google.colab import drive\n",
        "drive.mount('/content/gdrive')"
      ],
      "metadata": {
        "colab": {
          "base_uri": "https://localhost:8080/"
        },
        "id": "vDPSiggaigse",
        "outputId": "82be0a0e-1650-49b4-ad67-1c51e8cde74c"
      },
      "execution_count": 1,
      "outputs": [
        {
          "output_type": "stream",
          "name": "stdout",
          "text": [
            "Mounted at /content/gdrive\n"
          ]
        }
      ]
    },
    {
      "cell_type": "code",
      "source": [
        "%cd /content/drive/MyDrive/Colab Notebooks/CS6200"
      ],
      "metadata": {
        "colab": {
          "base_uri": "https://localhost:8080/"
        },
        "id": "q3Yzp0-4i1QI",
        "outputId": "950257ad-d93d-42cd-e70a-10fd0f9fd745"
      },
      "execution_count": 5,
      "outputs": [
        {
          "output_type": "stream",
          "name": "stdout",
          "text": [
            "/content/drive/MyDrive/Colab Notebooks/CS6200\n"
          ]
        }
      ]
    },
    {
      "cell_type": "code",
      "execution_count": 28,
      "metadata": {
        "id": "MUF6oSNuhMsf",
        "colab": {
          "base_uri": "https://localhost:8080/"
        },
        "outputId": "22168e88-4803-477d-8f7c-acbf79be9e09"
      },
      "outputs": [
        {
          "output_type": "stream",
          "name": "stderr",
          "text": [
            "[nltk_data] Downloading package stopwords to /root/nltk_data...\n",
            "[nltk_data]   Package stopwords is already up-to-date!\n",
            "[nltk_data] Downloading package omw-1.4 to /root/nltk_data...\n",
            "[nltk_data] Downloading package wordnet to /root/nltk_data...\n",
            "[nltk_data]   Package wordnet is already up-to-date!\n"
          ]
        }
      ],
      "source": [
        "import pandas as pd\n",
        "import numpy as np\n",
        "import nltk\n",
        "nltk.download('stopwords')\n",
        "nltk.download('omw-1.4')\n",
        "nltk.download('wordnet')\n",
        "\n",
        "from nltk import corpus\n",
        "from nltk.stem import WordNetLemmatizer\n",
        "from sklearn import metrics\n",
        "from sklearn.feature_extraction.text import TfidfVectorizer\n",
        "from sklearn.model_selection import train_test_split\n",
        "from sklearn.naive_bayes import MultinomialNB"
      ]
    },
    {
      "cell_type": "markdown",
      "source": [
        "### **Reading train and test files**"
      ],
      "metadata": {
        "id": "EDa9pKiqjya2"
      }
    },
    {
      "cell_type": "code",
      "source": [
        "train_df = pd.read_csv('training.csv')\n",
        "train_df.head()"
      ],
      "metadata": {
        "colab": {
          "base_uri": "https://localhost:8080/",
          "height": 206
        },
        "id": "45wUgKVoi0Ws",
        "outputId": "055bdeb3-d315-4690-99c9-4048b1cf50a6"
      },
      "execution_count": 11,
      "outputs": [
        {
          "output_type": "execute_result",
          "data": {
            "text/plain": [
              "      Id                                              title  \\\n",
              "0  13970   WATCH: Paul Manafort Gets DESTROYED On CNN Fo...   \n",
              "1  41668  REFUGEE BUSINESS IS CASH COW FOR LUTHERAN CHAR...   \n",
              "2  26810   Trump’s Excuse For All His Sexist Statements ...   \n",
              "3  30967  'Jihadi Gran' gets 10 years after joining son ...   \n",
              "4  26072  New Czech government to seek confidence vote o...   \n",
              "\n",
              "                                                text    subject  \\\n",
              "0  Paul Manafort, the chair of Donald Trump s cam...       News   \n",
              "1  How very  charitable  of the Lutheran and Cath...  left-news   \n",
              "2  In case you ve been living under a rock for yo...       News   \n",
              "3  PARIS (Reuters) - A court on Friday sentenced ...  worldnews   \n",
              "4  PRAGUE (Reuters) - The Czech government will s...  worldnews   \n",
              "\n",
              "                 date  label  \n",
              "0     August 14, 2016      1  \n",
              "1         May 8, 2015      1  \n",
              "2      March 28, 2016      1  \n",
              "3    October 6, 2017       0  \n",
              "4  December 13, 2017       0  "
            ],
            "text/html": [
              "\n",
              "  <div id=\"df-b581e845-dc0e-4f35-8eb5-d8a855efc638\">\n",
              "    <div class=\"colab-df-container\">\n",
              "      <div>\n",
              "<style scoped>\n",
              "    .dataframe tbody tr th:only-of-type {\n",
              "        vertical-align: middle;\n",
              "    }\n",
              "\n",
              "    .dataframe tbody tr th {\n",
              "        vertical-align: top;\n",
              "    }\n",
              "\n",
              "    .dataframe thead th {\n",
              "        text-align: right;\n",
              "    }\n",
              "</style>\n",
              "<table border=\"1\" class=\"dataframe\">\n",
              "  <thead>\n",
              "    <tr style=\"text-align: right;\">\n",
              "      <th></th>\n",
              "      <th>Id</th>\n",
              "      <th>title</th>\n",
              "      <th>text</th>\n",
              "      <th>subject</th>\n",
              "      <th>date</th>\n",
              "      <th>label</th>\n",
              "    </tr>\n",
              "  </thead>\n",
              "  <tbody>\n",
              "    <tr>\n",
              "      <th>0</th>\n",
              "      <td>13970</td>\n",
              "      <td>WATCH: Paul Manafort Gets DESTROYED On CNN Fo...</td>\n",
              "      <td>Paul Manafort, the chair of Donald Trump s cam...</td>\n",
              "      <td>News</td>\n",
              "      <td>August 14, 2016</td>\n",
              "      <td>1</td>\n",
              "    </tr>\n",
              "    <tr>\n",
              "      <th>1</th>\n",
              "      <td>41668</td>\n",
              "      <td>REFUGEE BUSINESS IS CASH COW FOR LUTHERAN CHAR...</td>\n",
              "      <td>How very  charitable  of the Lutheran and Cath...</td>\n",
              "      <td>left-news</td>\n",
              "      <td>May 8, 2015</td>\n",
              "      <td>1</td>\n",
              "    </tr>\n",
              "    <tr>\n",
              "      <th>2</th>\n",
              "      <td>26810</td>\n",
              "      <td>Trump’s Excuse For All His Sexist Statements ...</td>\n",
              "      <td>In case you ve been living under a rock for yo...</td>\n",
              "      <td>News</td>\n",
              "      <td>March 28, 2016</td>\n",
              "      <td>1</td>\n",
              "    </tr>\n",
              "    <tr>\n",
              "      <th>3</th>\n",
              "      <td>30967</td>\n",
              "      <td>'Jihadi Gran' gets 10 years after joining son ...</td>\n",
              "      <td>PARIS (Reuters) - A court on Friday sentenced ...</td>\n",
              "      <td>worldnews</td>\n",
              "      <td>October 6, 2017</td>\n",
              "      <td>0</td>\n",
              "    </tr>\n",
              "    <tr>\n",
              "      <th>4</th>\n",
              "      <td>26072</td>\n",
              "      <td>New Czech government to seek confidence vote o...</td>\n",
              "      <td>PRAGUE (Reuters) - The Czech government will s...</td>\n",
              "      <td>worldnews</td>\n",
              "      <td>December 13, 2017</td>\n",
              "      <td>0</td>\n",
              "    </tr>\n",
              "  </tbody>\n",
              "</table>\n",
              "</div>\n",
              "      <button class=\"colab-df-convert\" onclick=\"convertToInteractive('df-b581e845-dc0e-4f35-8eb5-d8a855efc638')\"\n",
              "              title=\"Convert this dataframe to an interactive table.\"\n",
              "              style=\"display:none;\">\n",
              "        \n",
              "  <svg xmlns=\"http://www.w3.org/2000/svg\" height=\"24px\"viewBox=\"0 0 24 24\"\n",
              "       width=\"24px\">\n",
              "    <path d=\"M0 0h24v24H0V0z\" fill=\"none\"/>\n",
              "    <path d=\"M18.56 5.44l.94 2.06.94-2.06 2.06-.94-2.06-.94-.94-2.06-.94 2.06-2.06.94zm-11 1L8.5 8.5l.94-2.06 2.06-.94-2.06-.94L8.5 2.5l-.94 2.06-2.06.94zm10 10l.94 2.06.94-2.06 2.06-.94-2.06-.94-.94-2.06-.94 2.06-2.06.94z\"/><path d=\"M17.41 7.96l-1.37-1.37c-.4-.4-.92-.59-1.43-.59-.52 0-1.04.2-1.43.59L10.3 9.45l-7.72 7.72c-.78.78-.78 2.05 0 2.83L4 21.41c.39.39.9.59 1.41.59.51 0 1.02-.2 1.41-.59l7.78-7.78 2.81-2.81c.8-.78.8-2.07 0-2.86zM5.41 20L4 18.59l7.72-7.72 1.47 1.35L5.41 20z\"/>\n",
              "  </svg>\n",
              "      </button>\n",
              "      \n",
              "  <style>\n",
              "    .colab-df-container {\n",
              "      display:flex;\n",
              "      flex-wrap:wrap;\n",
              "      gap: 12px;\n",
              "    }\n",
              "\n",
              "    .colab-df-convert {\n",
              "      background-color: #E8F0FE;\n",
              "      border: none;\n",
              "      border-radius: 50%;\n",
              "      cursor: pointer;\n",
              "      display: none;\n",
              "      fill: #1967D2;\n",
              "      height: 32px;\n",
              "      padding: 0 0 0 0;\n",
              "      width: 32px;\n",
              "    }\n",
              "\n",
              "    .colab-df-convert:hover {\n",
              "      background-color: #E2EBFA;\n",
              "      box-shadow: 0px 1px 2px rgba(60, 64, 67, 0.3), 0px 1px 3px 1px rgba(60, 64, 67, 0.15);\n",
              "      fill: #174EA6;\n",
              "    }\n",
              "\n",
              "    [theme=dark] .colab-df-convert {\n",
              "      background-color: #3B4455;\n",
              "      fill: #D2E3FC;\n",
              "    }\n",
              "\n",
              "    [theme=dark] .colab-df-convert:hover {\n",
              "      background-color: #434B5C;\n",
              "      box-shadow: 0px 1px 3px 1px rgba(0, 0, 0, 0.15);\n",
              "      filter: drop-shadow(0px 1px 2px rgba(0, 0, 0, 0.3));\n",
              "      fill: #FFFFFF;\n",
              "    }\n",
              "  </style>\n",
              "\n",
              "      <script>\n",
              "        const buttonEl =\n",
              "          document.querySelector('#df-b581e845-dc0e-4f35-8eb5-d8a855efc638 button.colab-df-convert');\n",
              "        buttonEl.style.display =\n",
              "          google.colab.kernel.accessAllowed ? 'block' : 'none';\n",
              "\n",
              "        async function convertToInteractive(key) {\n",
              "          const element = document.querySelector('#df-b581e845-dc0e-4f35-8eb5-d8a855efc638');\n",
              "          const dataTable =\n",
              "            await google.colab.kernel.invokeFunction('convertToInteractive',\n",
              "                                                     [key], {});\n",
              "          if (!dataTable) return;\n",
              "\n",
              "          const docLinkHtml = 'Like what you see? Visit the ' +\n",
              "            '<a target=\"_blank\" href=https://colab.research.google.com/notebooks/data_table.ipynb>data table notebook</a>'\n",
              "            + ' to learn more about interactive tables.';\n",
              "          element.innerHTML = '';\n",
              "          dataTable['output_type'] = 'display_data';\n",
              "          await google.colab.output.renderOutput(dataTable, element);\n",
              "          const docLink = document.createElement('div');\n",
              "          docLink.innerHTML = docLinkHtml;\n",
              "          element.appendChild(docLink);\n",
              "        }\n",
              "      </script>\n",
              "    </div>\n",
              "  </div>\n",
              "  "
            ]
          },
          "metadata": {},
          "execution_count": 11
        }
      ]
    },
    {
      "cell_type": "code",
      "source": [
        "# Records in training data\n",
        "len(train_df)"
      ],
      "metadata": {
        "colab": {
          "base_uri": "https://localhost:8080/"
        },
        "id": "Bv0BXoGojZT3",
        "outputId": "69417655-a646-4086-eda3-c85fa449f456"
      },
      "execution_count": 10,
      "outputs": [
        {
          "output_type": "execute_result",
          "data": {
            "text/plain": [
              "31428"
            ]
          },
          "metadata": {},
          "execution_count": 10
        }
      ]
    },
    {
      "cell_type": "code",
      "source": [
        "test_df = pd.read_csv('test.csv')\n",
        "test_df.head()"
      ],
      "metadata": {
        "colab": {
          "base_uri": "https://localhost:8080/",
          "height": 206
        },
        "id": "wv66Bgp4jg4N",
        "outputId": "a346a53d-8180-465c-bc13-168793a5e704"
      },
      "execution_count": 14,
      "outputs": [
        {
          "output_type": "execute_result",
          "data": {
            "text/plain": [
              "      Id                                              title  \\\n",
              "0  22216        Five killed in sectarian attack in Pakistan   \n",
              "1  27917  White House narrows search to three for Suprem...   \n",
              "2  25007  THE DEATH OF P.C. POLICE? Trump’s DOJ Makes Ma...   \n",
              "3   1377  House, Senate Republicans face challenge over ...   \n",
              "4  32476  China complains about Taiwan content in U.S. d...   \n",
              "\n",
              "                                                text       subject  \\\n",
              "0  QUETTA, Pakistan (Reuters) - (This October 9 s...     worldnews   \n",
              "1  WASHINGTON/AUSTIN, Texas (Reuters) - The White...  politicsNews   \n",
              "2  The Justice Department on Thursday dropped the...      politics   \n",
              "3  WASHINGTON (Reuters) - U.S. Republicans in Con...  politicsNews   \n",
              "4  BEIJING (Reuters) - China said on Thursday it ...     worldnews   \n",
              "\n",
              "                 date  \n",
              "0    October 9, 2017   \n",
              "1     March 11, 2016   \n",
              "2        Jun 30, 2017  \n",
              "3   December 5, 2017   \n",
              "4  December 14, 2017   "
            ],
            "text/html": [
              "\n",
              "  <div id=\"df-7c70840b-9b43-4df3-9361-6aeeaa1350f7\">\n",
              "    <div class=\"colab-df-container\">\n",
              "      <div>\n",
              "<style scoped>\n",
              "    .dataframe tbody tr th:only-of-type {\n",
              "        vertical-align: middle;\n",
              "    }\n",
              "\n",
              "    .dataframe tbody tr th {\n",
              "        vertical-align: top;\n",
              "    }\n",
              "\n",
              "    .dataframe thead th {\n",
              "        text-align: right;\n",
              "    }\n",
              "</style>\n",
              "<table border=\"1\" class=\"dataframe\">\n",
              "  <thead>\n",
              "    <tr style=\"text-align: right;\">\n",
              "      <th></th>\n",
              "      <th>Id</th>\n",
              "      <th>title</th>\n",
              "      <th>text</th>\n",
              "      <th>subject</th>\n",
              "      <th>date</th>\n",
              "    </tr>\n",
              "  </thead>\n",
              "  <tbody>\n",
              "    <tr>\n",
              "      <th>0</th>\n",
              "      <td>22216</td>\n",
              "      <td>Five killed in sectarian attack in Pakistan</td>\n",
              "      <td>QUETTA, Pakistan (Reuters) - (This October 9 s...</td>\n",
              "      <td>worldnews</td>\n",
              "      <td>October 9, 2017</td>\n",
              "    </tr>\n",
              "    <tr>\n",
              "      <th>1</th>\n",
              "      <td>27917</td>\n",
              "      <td>White House narrows search to three for Suprem...</td>\n",
              "      <td>WASHINGTON/AUSTIN, Texas (Reuters) - The White...</td>\n",
              "      <td>politicsNews</td>\n",
              "      <td>March 11, 2016</td>\n",
              "    </tr>\n",
              "    <tr>\n",
              "      <th>2</th>\n",
              "      <td>25007</td>\n",
              "      <td>THE DEATH OF P.C. POLICE? Trump’s DOJ Makes Ma...</td>\n",
              "      <td>The Justice Department on Thursday dropped the...</td>\n",
              "      <td>politics</td>\n",
              "      <td>Jun 30, 2017</td>\n",
              "    </tr>\n",
              "    <tr>\n",
              "      <th>3</th>\n",
              "      <td>1377</td>\n",
              "      <td>House, Senate Republicans face challenge over ...</td>\n",
              "      <td>WASHINGTON (Reuters) - U.S. Republicans in Con...</td>\n",
              "      <td>politicsNews</td>\n",
              "      <td>December 5, 2017</td>\n",
              "    </tr>\n",
              "    <tr>\n",
              "      <th>4</th>\n",
              "      <td>32476</td>\n",
              "      <td>China complains about Taiwan content in U.S. d...</td>\n",
              "      <td>BEIJING (Reuters) - China said on Thursday it ...</td>\n",
              "      <td>worldnews</td>\n",
              "      <td>December 14, 2017</td>\n",
              "    </tr>\n",
              "  </tbody>\n",
              "</table>\n",
              "</div>\n",
              "      <button class=\"colab-df-convert\" onclick=\"convertToInteractive('df-7c70840b-9b43-4df3-9361-6aeeaa1350f7')\"\n",
              "              title=\"Convert this dataframe to an interactive table.\"\n",
              "              style=\"display:none;\">\n",
              "        \n",
              "  <svg xmlns=\"http://www.w3.org/2000/svg\" height=\"24px\"viewBox=\"0 0 24 24\"\n",
              "       width=\"24px\">\n",
              "    <path d=\"M0 0h24v24H0V0z\" fill=\"none\"/>\n",
              "    <path d=\"M18.56 5.44l.94 2.06.94-2.06 2.06-.94-2.06-.94-.94-2.06-.94 2.06-2.06.94zm-11 1L8.5 8.5l.94-2.06 2.06-.94-2.06-.94L8.5 2.5l-.94 2.06-2.06.94zm10 10l.94 2.06.94-2.06 2.06-.94-2.06-.94-.94-2.06-.94 2.06-2.06.94z\"/><path d=\"M17.41 7.96l-1.37-1.37c-.4-.4-.92-.59-1.43-.59-.52 0-1.04.2-1.43.59L10.3 9.45l-7.72 7.72c-.78.78-.78 2.05 0 2.83L4 21.41c.39.39.9.59 1.41.59.51 0 1.02-.2 1.41-.59l7.78-7.78 2.81-2.81c.8-.78.8-2.07 0-2.86zM5.41 20L4 18.59l7.72-7.72 1.47 1.35L5.41 20z\"/>\n",
              "  </svg>\n",
              "      </button>\n",
              "      \n",
              "  <style>\n",
              "    .colab-df-container {\n",
              "      display:flex;\n",
              "      flex-wrap:wrap;\n",
              "      gap: 12px;\n",
              "    }\n",
              "\n",
              "    .colab-df-convert {\n",
              "      background-color: #E8F0FE;\n",
              "      border: none;\n",
              "      border-radius: 50%;\n",
              "      cursor: pointer;\n",
              "      display: none;\n",
              "      fill: #1967D2;\n",
              "      height: 32px;\n",
              "      padding: 0 0 0 0;\n",
              "      width: 32px;\n",
              "    }\n",
              "\n",
              "    .colab-df-convert:hover {\n",
              "      background-color: #E2EBFA;\n",
              "      box-shadow: 0px 1px 2px rgba(60, 64, 67, 0.3), 0px 1px 3px 1px rgba(60, 64, 67, 0.15);\n",
              "      fill: #174EA6;\n",
              "    }\n",
              "\n",
              "    [theme=dark] .colab-df-convert {\n",
              "      background-color: #3B4455;\n",
              "      fill: #D2E3FC;\n",
              "    }\n",
              "\n",
              "    [theme=dark] .colab-df-convert:hover {\n",
              "      background-color: #434B5C;\n",
              "      box-shadow: 0px 1px 3px 1px rgba(0, 0, 0, 0.15);\n",
              "      filter: drop-shadow(0px 1px 2px rgba(0, 0, 0, 0.3));\n",
              "      fill: #FFFFFF;\n",
              "    }\n",
              "  </style>\n",
              "\n",
              "      <script>\n",
              "        const buttonEl =\n",
              "          document.querySelector('#df-7c70840b-9b43-4df3-9361-6aeeaa1350f7 button.colab-df-convert');\n",
              "        buttonEl.style.display =\n",
              "          google.colab.kernel.accessAllowed ? 'block' : 'none';\n",
              "\n",
              "        async function convertToInteractive(key) {\n",
              "          const element = document.querySelector('#df-7c70840b-9b43-4df3-9361-6aeeaa1350f7');\n",
              "          const dataTable =\n",
              "            await google.colab.kernel.invokeFunction('convertToInteractive',\n",
              "                                                     [key], {});\n",
              "          if (!dataTable) return;\n",
              "\n",
              "          const docLinkHtml = 'Like what you see? Visit the ' +\n",
              "            '<a target=\"_blank\" href=https://colab.research.google.com/notebooks/data_table.ipynb>data table notebook</a>'\n",
              "            + ' to learn more about interactive tables.';\n",
              "          element.innerHTML = '';\n",
              "          dataTable['output_type'] = 'display_data';\n",
              "          await google.colab.output.renderOutput(dataTable, element);\n",
              "          const docLink = document.createElement('div');\n",
              "          docLink.innerHTML = docLinkHtml;\n",
              "          element.appendChild(docLink);\n",
              "        }\n",
              "      </script>\n",
              "    </div>\n",
              "  </div>\n",
              "  "
            ]
          },
          "metadata": {},
          "execution_count": 14
        }
      ]
    },
    {
      "cell_type": "code",
      "source": [
        "# Records in test data\n",
        "len(test_df)"
      ],
      "metadata": {
        "colab": {
          "base_uri": "https://localhost:8080/"
        },
        "id": "kvVWKnXIjqpz",
        "outputId": "aa239042-4bc2-432e-8b4e-7a49387edff1"
      },
      "execution_count": 13,
      "outputs": [
        {
          "output_type": "execute_result",
          "data": {
            "text/plain": [
              "13470"
            ]
          },
          "metadata": {},
          "execution_count": 13
        }
      ]
    },
    {
      "cell_type": "markdown",
      "source": [
        "### **Data Cleaning**"
      ],
      "metadata": {
        "id": "5tHYlkVtkHHn"
      }
    },
    {
      "cell_type": "code",
      "source": [
        "# Drop NA values if any\n",
        "train_df.isna().sum() # no NA values"
      ],
      "metadata": {
        "colab": {
          "base_uri": "https://localhost:8080/"
        },
        "id": "JG2hm6-3jsIq",
        "outputId": "d88de913-bc7d-4da0-d497-e08dad1c4a5c"
      },
      "execution_count": 22,
      "outputs": [
        {
          "output_type": "execute_result",
          "data": {
            "text/plain": [
              "Id         0\n",
              "title      0\n",
              "text       0\n",
              "subject    0\n",
              "date       0\n",
              "label      0\n",
              "dtype: int64"
            ]
          },
          "metadata": {},
          "execution_count": 22
        }
      ]
    },
    {
      "cell_type": "code",
      "source": [
        "# Remove stopwords from text \n",
        "stop_words = corpus.stopwords.words('english')\n",
        "def remove_stopwords(text):\n",
        "    return ' '.join(word.lower() for word in text.split(' ') if word not in stop_words)\n",
        "\n",
        "train_df.text = train_df.text.apply(remove_stopwords)"
      ],
      "metadata": {
        "id": "2l6mFUgwkfOz"
      },
      "execution_count": 25,
      "outputs": []
    },
    {
      "cell_type": "code",
      "source": [
        "# Remove junk characters from text \n",
        "train_df.text = train_df.text.str.replace('\\d+','')"
      ],
      "metadata": {
        "colab": {
          "base_uri": "https://localhost:8080/"
        },
        "id": "VmCpf-zplSi9",
        "outputId": "5f57550b-80fb-49b9-f4c9-e9c7e4ce255e"
      },
      "execution_count": 26,
      "outputs": [
        {
          "output_type": "stream",
          "name": "stderr",
          "text": [
            "<ipython-input-26-e6bd150cf480>:2: FutureWarning: The default value of regex will change from True to False in a future version.\n",
            "  train_df.text = train_df.text.str.replace('\\d+','')\n"
          ]
        }
      ]
    },
    {
      "cell_type": "code",
      "source": [
        "# Lemmatization\n",
        "lemmatizer = WordNetLemmatizer()\n",
        "def lemmatizing(text):\n",
        "    return ' '.join(lemmatizer.lemmatize(word) for word in text.split(' ') )\n",
        "\n",
        "train_df.text = train_df.text.apply(lemmatizing)"
      ],
      "metadata": {
        "id": "RExCWCL3lsef"
      },
      "execution_count": 29,
      "outputs": []
    },
    {
      "cell_type": "code",
      "source": [
        "# Create TF-IDF\n",
        "tfidf =TfidfVectorizer(max_features=5000, ngram_range=(1,3))\n",
        "X = tfidf.fit_transform(train_df.text).toarray()"
      ],
      "metadata": {
        "id": "mtV4W89XlxHX"
      },
      "execution_count": 30,
      "outputs": []
    },
    {
      "cell_type": "code",
      "source": [
        "X.shape"
      ],
      "metadata": {
        "colab": {
          "base_uri": "https://localhost:8080/"
        },
        "id": "AjERNqodmoqZ",
        "outputId": "e5b834ff-1174-479f-ce86-b29139aa8a01"
      },
      "execution_count": 32,
      "outputs": [
        {
          "output_type": "execute_result",
          "data": {
            "text/plain": [
              "(31428, 5000)"
            ]
          },
          "metadata": {},
          "execution_count": 32
        }
      ]
    },
    {
      "cell_type": "code",
      "source": [
        "y = train_df.label"
      ],
      "metadata": {
        "id": "ooCOXMFbmpqp"
      },
      "execution_count": 33,
      "outputs": []
    },
    {
      "cell_type": "markdown",
      "source": [
        "### **Naive Bayes Classifier**"
      ],
      "metadata": {
        "id": "q_YtdaQZmvwu"
      }
    },
    {
      "cell_type": "code",
      "source": [
        "# train-test split\n",
        "x_train, x_dev, y_train, y_dev = train_test_split(X, y, train_size=0.25, random_state = 42)\n",
        "\n",
        "# Fitting the model\n",
        "classifier = MultinomialNB().fit(x_train, y_train)\n",
        "preds = classifier.predict(x_dev)\n",
        "preds[:50]"
      ],
      "metadata": {
        "colab": {
          "base_uri": "https://localhost:8080/"
        },
        "id": "Nsdh8kEvmrf3",
        "outputId": "1900754f-be3f-40f0-fbea-ea8fe1629145"
      },
      "execution_count": 36,
      "outputs": [
        {
          "output_type": "execute_result",
          "data": {
            "text/plain": [
              "array([1, 1, 1, 0, 1, 1, 0, 1, 1, 1, 1, 0, 0, 1, 0, 0, 1, 0, 0, 0, 0, 1,\n",
              "       1, 0, 1, 1, 0, 1, 1, 0, 1, 1, 1, 0, 0, 1, 1, 1, 1, 1, 1, 1, 1, 0,\n",
              "       1, 1, 0, 1, 0, 0])"
            ]
          },
          "metadata": {},
          "execution_count": 36
        }
      ]
    },
    {
      "cell_type": "code",
      "source": [
        "# Model evaluation\n",
        "print(\"Accuracy:\",round(metrics.accuracy_score(y_dev, preds),4))\n",
        "print(\"Precision:\",round(metrics.precision_score(y_dev, preds),4))\n",
        "print(\"Recall:\",round(metrics.recall_score(y_dev, preds),4))"
      ],
      "metadata": {
        "colab": {
          "base_uri": "https://localhost:8080/"
        },
        "id": "y4XHBVcSq2AU",
        "outputId": "0a4ff93a-80ea-4d55-9358-cc1b0fbf68b6"
      },
      "execution_count": 55,
      "outputs": [
        {
          "output_type": "stream",
          "name": "stdout",
          "text": [
            "Accuracy: 0.9494\n",
            "Precision: 0.9513\n",
            "Recall: 0.9526\n"
          ]
        }
      ]
    },
    {
      "cell_type": "markdown",
      "source": [
        "### **Topic Relevance**"
      ],
      "metadata": {
        "id": "TUrWY1_Xr67T"
      }
    },
    {
      "cell_type": "code",
      "source": [
        "# Topics in the dataset\n",
        "train_df[\"subject\"].value_counts()"
      ],
      "metadata": {
        "colab": {
          "base_uri": "https://localhost:8080/"
        },
        "id": "U9t3FrjFo4xX",
        "outputId": "e7d324ce-62e3-48a7-c868-1abbd3949075"
      },
      "execution_count": 56,
      "outputs": [
        {
          "output_type": "execute_result",
          "data": {
            "text/plain": [
              "politicsNews       7863\n",
              "worldnews          7088\n",
              "News               6378\n",
              "politics           4832\n",
              "left-news          3096\n",
              "Government News    1089\n",
              "US_News             546\n",
              "Middle-east         536\n",
              "Name: subject, dtype: int64"
            ]
          },
          "metadata": {},
          "execution_count": 56
        }
      ]
    },
    {
      "cell_type": "code",
      "source": [
        "# Encoding subject column\n",
        "train_df['subject'] = train_df['subject'].astype('category')\n",
        "train_df['subject_code'] = train_df['subject'].cat.codes\n",
        "train_df.head()"
      ],
      "metadata": {
        "colab": {
          "base_uri": "https://localhost:8080/",
          "height": 302
        },
        "id": "o6o5YaN4r9Un",
        "outputId": "39cb64a9-a53e-491a-b356-05f6bcbbbc54"
      },
      "execution_count": 57,
      "outputs": [
        {
          "output_type": "execute_result",
          "data": {
            "text/plain": [
              "      Id                                              title  \\\n",
              "0  13970   WATCH: Paul Manafort Gets DESTROYED On CNN Fo...   \n",
              "1  41668  REFUGEE BUSINESS IS CASH COW FOR LUTHERAN CHAR...   \n",
              "2  26810   Trump’s Excuse For All His Sexist Statements ...   \n",
              "3  30967  'Jihadi Gran' gets 10 years after joining son ...   \n",
              "4  26072  New Czech government to seek confidence vote o...   \n",
              "\n",
              "                                                text    subject  \\\n",
              "0  paul manafort, chair donald trump campaign, go...       News   \n",
              "1   charitable  lutheran catholic church bring te...  left-news   \n",
              "2  case living rock entire life, especially campa...       News   \n",
              "3  paris (reuters) - court friday sentenced radic...  worldnews   \n",
              "4  prague (reuters) - czech government seek vote ...  worldnews   \n",
              "\n",
              "                 date  label  subject_code  \n",
              "0     August 14, 2016      1             2  \n",
              "1         May 8, 2015      1             4  \n",
              "2      March 28, 2016      1             2  \n",
              "3    October 6, 2017       0             7  \n",
              "4  December 13, 2017       0             7  "
            ],
            "text/html": [
              "\n",
              "  <div id=\"df-73b010fc-61ae-460e-a3f6-e77157a28cc3\">\n",
              "    <div class=\"colab-df-container\">\n",
              "      <div>\n",
              "<style scoped>\n",
              "    .dataframe tbody tr th:only-of-type {\n",
              "        vertical-align: middle;\n",
              "    }\n",
              "\n",
              "    .dataframe tbody tr th {\n",
              "        vertical-align: top;\n",
              "    }\n",
              "\n",
              "    .dataframe thead th {\n",
              "        text-align: right;\n",
              "    }\n",
              "</style>\n",
              "<table border=\"1\" class=\"dataframe\">\n",
              "  <thead>\n",
              "    <tr style=\"text-align: right;\">\n",
              "      <th></th>\n",
              "      <th>Id</th>\n",
              "      <th>title</th>\n",
              "      <th>text</th>\n",
              "      <th>subject</th>\n",
              "      <th>date</th>\n",
              "      <th>label</th>\n",
              "      <th>subject_code</th>\n",
              "    </tr>\n",
              "  </thead>\n",
              "  <tbody>\n",
              "    <tr>\n",
              "      <th>0</th>\n",
              "      <td>13970</td>\n",
              "      <td>WATCH: Paul Manafort Gets DESTROYED On CNN Fo...</td>\n",
              "      <td>paul manafort, chair donald trump campaign, go...</td>\n",
              "      <td>News</td>\n",
              "      <td>August 14, 2016</td>\n",
              "      <td>1</td>\n",
              "      <td>2</td>\n",
              "    </tr>\n",
              "    <tr>\n",
              "      <th>1</th>\n",
              "      <td>41668</td>\n",
              "      <td>REFUGEE BUSINESS IS CASH COW FOR LUTHERAN CHAR...</td>\n",
              "      <td>charitable  lutheran catholic church bring te...</td>\n",
              "      <td>left-news</td>\n",
              "      <td>May 8, 2015</td>\n",
              "      <td>1</td>\n",
              "      <td>4</td>\n",
              "    </tr>\n",
              "    <tr>\n",
              "      <th>2</th>\n",
              "      <td>26810</td>\n",
              "      <td>Trump’s Excuse For All His Sexist Statements ...</td>\n",
              "      <td>case living rock entire life, especially campa...</td>\n",
              "      <td>News</td>\n",
              "      <td>March 28, 2016</td>\n",
              "      <td>1</td>\n",
              "      <td>2</td>\n",
              "    </tr>\n",
              "    <tr>\n",
              "      <th>3</th>\n",
              "      <td>30967</td>\n",
              "      <td>'Jihadi Gran' gets 10 years after joining son ...</td>\n",
              "      <td>paris (reuters) - court friday sentenced radic...</td>\n",
              "      <td>worldnews</td>\n",
              "      <td>October 6, 2017</td>\n",
              "      <td>0</td>\n",
              "      <td>7</td>\n",
              "    </tr>\n",
              "    <tr>\n",
              "      <th>4</th>\n",
              "      <td>26072</td>\n",
              "      <td>New Czech government to seek confidence vote o...</td>\n",
              "      <td>prague (reuters) - czech government seek vote ...</td>\n",
              "      <td>worldnews</td>\n",
              "      <td>December 13, 2017</td>\n",
              "      <td>0</td>\n",
              "      <td>7</td>\n",
              "    </tr>\n",
              "  </tbody>\n",
              "</table>\n",
              "</div>\n",
              "      <button class=\"colab-df-convert\" onclick=\"convertToInteractive('df-73b010fc-61ae-460e-a3f6-e77157a28cc3')\"\n",
              "              title=\"Convert this dataframe to an interactive table.\"\n",
              "              style=\"display:none;\">\n",
              "        \n",
              "  <svg xmlns=\"http://www.w3.org/2000/svg\" height=\"24px\"viewBox=\"0 0 24 24\"\n",
              "       width=\"24px\">\n",
              "    <path d=\"M0 0h24v24H0V0z\" fill=\"none\"/>\n",
              "    <path d=\"M18.56 5.44l.94 2.06.94-2.06 2.06-.94-2.06-.94-.94-2.06-.94 2.06-2.06.94zm-11 1L8.5 8.5l.94-2.06 2.06-.94-2.06-.94L8.5 2.5l-.94 2.06-2.06.94zm10 10l.94 2.06.94-2.06 2.06-.94-2.06-.94-.94-2.06-.94 2.06-2.06.94z\"/><path d=\"M17.41 7.96l-1.37-1.37c-.4-.4-.92-.59-1.43-.59-.52 0-1.04.2-1.43.59L10.3 9.45l-7.72 7.72c-.78.78-.78 2.05 0 2.83L4 21.41c.39.39.9.59 1.41.59.51 0 1.02-.2 1.41-.59l7.78-7.78 2.81-2.81c.8-.78.8-2.07 0-2.86zM5.41 20L4 18.59l7.72-7.72 1.47 1.35L5.41 20z\"/>\n",
              "  </svg>\n",
              "      </button>\n",
              "      \n",
              "  <style>\n",
              "    .colab-df-container {\n",
              "      display:flex;\n",
              "      flex-wrap:wrap;\n",
              "      gap: 12px;\n",
              "    }\n",
              "\n",
              "    .colab-df-convert {\n",
              "      background-color: #E8F0FE;\n",
              "      border: none;\n",
              "      border-radius: 50%;\n",
              "      cursor: pointer;\n",
              "      display: none;\n",
              "      fill: #1967D2;\n",
              "      height: 32px;\n",
              "      padding: 0 0 0 0;\n",
              "      width: 32px;\n",
              "    }\n",
              "\n",
              "    .colab-df-convert:hover {\n",
              "      background-color: #E2EBFA;\n",
              "      box-shadow: 0px 1px 2px rgba(60, 64, 67, 0.3), 0px 1px 3px 1px rgba(60, 64, 67, 0.15);\n",
              "      fill: #174EA6;\n",
              "    }\n",
              "\n",
              "    [theme=dark] .colab-df-convert {\n",
              "      background-color: #3B4455;\n",
              "      fill: #D2E3FC;\n",
              "    }\n",
              "\n",
              "    [theme=dark] .colab-df-convert:hover {\n",
              "      background-color: #434B5C;\n",
              "      box-shadow: 0px 1px 3px 1px rgba(0, 0, 0, 0.15);\n",
              "      filter: drop-shadow(0px 1px 2px rgba(0, 0, 0, 0.3));\n",
              "      fill: #FFFFFF;\n",
              "    }\n",
              "  </style>\n",
              "\n",
              "      <script>\n",
              "        const buttonEl =\n",
              "          document.querySelector('#df-73b010fc-61ae-460e-a3f6-e77157a28cc3 button.colab-df-convert');\n",
              "        buttonEl.style.display =\n",
              "          google.colab.kernel.accessAllowed ? 'block' : 'none';\n",
              "\n",
              "        async function convertToInteractive(key) {\n",
              "          const element = document.querySelector('#df-73b010fc-61ae-460e-a3f6-e77157a28cc3');\n",
              "          const dataTable =\n",
              "            await google.colab.kernel.invokeFunction('convertToInteractive',\n",
              "                                                     [key], {});\n",
              "          if (!dataTable) return;\n",
              "\n",
              "          const docLinkHtml = 'Like what you see? Visit the ' +\n",
              "            '<a target=\"_blank\" href=https://colab.research.google.com/notebooks/data_table.ipynb>data table notebook</a>'\n",
              "            + ' to learn more about interactive tables.';\n",
              "          element.innerHTML = '';\n",
              "          dataTable['output_type'] = 'display_data';\n",
              "          await google.colab.output.renderOutput(dataTable, element);\n",
              "          const docLink = document.createElement('div');\n",
              "          docLink.innerHTML = docLinkHtml;\n",
              "          element.appendChild(docLink);\n",
              "        }\n",
              "      </script>\n",
              "    </div>\n",
              "  </div>\n",
              "  "
            ]
          },
          "metadata": {},
          "execution_count": 57
        }
      ]
    },
    {
      "cell_type": "code",
      "source": [
        "# Create TF-IDF\n",
        "X_multi = tfidf.fit_transform(train_df.text).toarray()\n",
        "y_multi = train_df.subject_code\n",
        "\n",
        "# train-test split\n",
        "x_multi_train,x_multi_dev,y_multi_train,y_multi_dev = train_test_split(X_multi, y_multi, train_size=0.25, random_state = 42)\n",
        "\n",
        "# Fitting the model with y as subject code\n",
        "multi_classifier = MultinomialNB().fit(x_multi_train, y_multi_train)\n",
        "preds_multi = multi_classifier.predict(x_multi_dev)\n",
        "preds_multi[:50]"
      ],
      "metadata": {
        "colab": {
          "base_uri": "https://localhost:8080/"
        },
        "id": "m19t5kQwtJS5",
        "outputId": "36062ef2-d0a4-41eb-f45f-4471e8340629"
      },
      "execution_count": 62,
      "outputs": [
        {
          "output_type": "execute_result",
          "data": {
            "text/plain": [
              "array([2, 6, 2, 6, 6, 2, 6, 2, 2, 2, 6, 7, 7, 5, 6, 7, 3, 6, 7, 6, 6, 5,\n",
              "       6, 7, 2, 2, 6, 2, 5, 6, 5, 2, 6, 7, 6, 5, 6, 5, 6, 5, 5, 2, 6, 6,\n",
              "       5, 2, 6, 2, 6, 6], dtype=int8)"
            ]
          },
          "metadata": {},
          "execution_count": 62
        }
      ]
    },
    {
      "cell_type": "code",
      "source": [
        "# Model evaluation\n",
        "print(\"Accuracy:\",round(metrics.accuracy_score(y_multi_dev, preds_multi),4))\n",
        "print(\"Precision:\",round(metrics.precision_score(y_multi_dev, preds_multi, average=\"weighted\"),4))\n",
        "print(\"Recall:\",round(metrics.recall_score(y_multi_dev, preds_multi, average=\"weighted\"),4))"
      ],
      "metadata": {
        "colab": {
          "base_uri": "https://localhost:8080/"
        },
        "id": "U2MSp33EudDw",
        "outputId": "d0cabd60-2332-4f1a-a501-f77076f7c32e"
      },
      "execution_count": 70,
      "outputs": [
        {
          "output_type": "stream",
          "name": "stdout",
          "text": [
            "Accuracy: 0.7086\n",
            "Precision: 0.6447\n",
            "Recall: 0.7086\n"
          ]
        }
      ]
    },
    {
      "cell_type": "markdown",
      "source": [
        "### **Test Data Preparation** "
      ],
      "metadata": {
        "id": "nNcVx9vawihA"
      }
    },
    {
      "cell_type": "code",
      "source": [
        "# Data cleaning \n",
        "test_df = test_df.dropna()\n",
        "test_df.text = test_df.text.apply(remove_stopwords)\n",
        "test_df.text = test_df.text.apply(lemmatizing)\n",
        "test_df.text"
      ],
      "metadata": {
        "colab": {
          "base_uri": "https://localhost:8080/"
        },
        "id": "fJr7epq0uwiO",
        "outputId": "c3d0e8f8-b58c-43be-85f1-88a3a3f0ed30"
      },
      "execution_count": 71,
      "outputs": [
        {
          "output_type": "execute_result",
          "data": {
            "text/plain": [
              "0        quetta, pakistan (reuters) - (this october 9 s...\n",
              "1        washington/austin, texas (reuters) - the white...\n",
              "2        the justice department thursday dropped legal ...\n",
              "3        washington (reuters) - u.s. republican congres...\n",
              "4        beijing (reuters) - china said thursday compla...\n",
              "                               ...                        \n",
              "13465    ron reagan, late president reagan son, underst...\n",
              "13466    a prolific trump foe found viral fame boasting...\n",
              "13467    washington (reuters) - u.s. president donald t...\n",
              "13468    beijing (reuters) - a young chinese climbing e...\n",
              "13469    hillary lost lead swing state oh, nv, ia fl si...\n",
              "Name: text, Length: 13470, dtype: object"
            ]
          },
          "metadata": {},
          "execution_count": 71
        }
      ]
    },
    {
      "cell_type": "code",
      "source": [
        "X_test = tfidf.fit_transform(test_df.text).toarray()"
      ],
      "metadata": {
        "id": "aKPPR6-ywpxE"
      },
      "execution_count": 72,
      "outputs": []
    },
    {
      "cell_type": "code",
      "source": [
        "X_test.shape"
      ],
      "metadata": {
        "colab": {
          "base_uri": "https://localhost:8080/"
        },
        "id": "ds1rb7V5xNhP",
        "outputId": "6216fc39-5951-4b01-c248-25d6c40fbdc1"
      },
      "execution_count": 73,
      "outputs": [
        {
          "output_type": "execute_result",
          "data": {
            "text/plain": [
              "(13470, 5000)"
            ]
          },
          "metadata": {},
          "execution_count": 73
        }
      ]
    },
    {
      "cell_type": "code",
      "source": [
        "pred_test = classifier.predict(X_test)\n",
        "pred_test[:50]"
      ],
      "metadata": {
        "colab": {
          "base_uri": "https://localhost:8080/"
        },
        "id": "Xd4UL3qexQcQ",
        "outputId": "b92dac3c-9576-436b-d327-e6bca705f41e"
      },
      "execution_count": 74,
      "outputs": [
        {
          "output_type": "execute_result",
          "data": {
            "text/plain": [
              "array([0, 0, 1, 0, 0, 1, 0, 1, 1, 1, 0, 0, 1, 1, 1, 0, 0, 1, 1, 1, 0, 1,\n",
              "       1, 0, 1, 0, 0, 0, 0, 1, 0, 1, 0, 1, 0, 0, 0, 0, 1, 0, 0, 1, 1, 1,\n",
              "       0, 0, 1, 1, 1, 0])"
            ]
          },
          "metadata": {},
          "execution_count": 74
        }
      ]
    },
    {
      "cell_type": "code",
      "source": [
        "subject_code_preds = multi_classifier.predict(X_test)\n",
        "subject_code_preds[:50]"
      ],
      "metadata": {
        "colab": {
          "base_uri": "https://localhost:8080/"
        },
        "id": "FcBOH2kPxY_6",
        "outputId": "adab97ee-46c8-40b0-cbc6-44efab6f5315"
      },
      "execution_count": 76,
      "outputs": [
        {
          "output_type": "execute_result",
          "data": {
            "text/plain": [
              "array([0, 0, 2, 6, 7, 5, 0, 2, 5, 6, 6, 7, 6, 5, 0, 6, 5, 5, 5, 5, 0, 0,\n",
              "       5, 6, 0, 7, 0, 4, 5, 5, 5, 5, 0, 2, 5, 6, 6, 4, 0, 6, 0, 5, 0, 4,\n",
              "       0, 5, 5, 4, 0, 0], dtype=int8)"
            ]
          },
          "metadata": {},
          "execution_count": 76
        }
      ]
    },
    {
      "cell_type": "markdown",
      "source": [
        "### **Calculate doc-query similarity**"
      ],
      "metadata": {
        "id": "0Pn_bQVex_P9"
      }
    },
    {
      "cell_type": "code",
      "source": [
        "titles = list(train_df.title)\n",
        "docs = list(train_df.text)\n",
        "ids = list(train_df.Id)"
      ],
      "metadata": {
        "id": "SB2X_3Ggxc_q"
      },
      "execution_count": 89,
      "outputs": []
    },
    {
      "cell_type": "code",
      "source": [
        "X = tfidf.fit_transform(docs)\n",
        "# Convert the X as transposed matrix\n",
        "X = X.T.toarray()\n",
        "# Create a DataFrame and set the vocabulary as the index\n",
        "df = pd.DataFrame(X, index=tfidf.get_feature_names_out())"
      ],
      "metadata": {
        "id": "272w8cXSyFs0"
      },
      "execution_count": 90,
      "outputs": []
    },
    {
      "cell_type": "markdown",
      "source": [
        "### **Calculate similarity score between query and document**"
      ],
      "metadata": {
        "id": "jKjjObwQzz4G"
      }
    },
    {
      "cell_type": "code",
      "source": [
        "def get_similar_articles(q, df, n):\n",
        "  print(\"query:\", q)\n",
        "  print(\"search results: \")\n",
        "  ans_df = pd.DataFrame()\n",
        "  ans_title = []\n",
        "  ans_sim = []\n",
        "  ans_id = []\n",
        "\n",
        "  # Convert the query become a vector\n",
        "  q = [q]\n",
        "  q_vec = tfidf.transform(q).toarray().reshape(df.shape[0],)\n",
        "  sim = {}\n",
        "  \n",
        "  # Calculate the similarity\n",
        "  for i in range(df.shape[1]):\n",
        "    sim[i] = np.dot(df.loc[:, i].values, q_vec) / np.linalg.norm(df.loc[:, i]) * np.linalg.norm(q_vec)\n",
        "  \n",
        "  # Sort the values \n",
        "  sim_sorted = sorted(sim.items(), key=lambda x: x[1], reverse=True)\n",
        "  # Print the articles and their similarity values\n",
        "  for k, v in sim_sorted:\n",
        "    if v != 0.0:\n",
        "      # print(\"Cosine Similarity:\", v)\n",
        "      ans_sim.append(v)\n",
        "      # print(titles[k])\n",
        "      ans_title.append(titles[k])\n",
        "      ans_id.append(ids[k])\n",
        "      # print()\n",
        "  ans_df['id'] = ans_id\n",
        "  ans_df['title'] = ans_title\n",
        "  ans_df['sim'] = ans_sim\n",
        "  return ans_df[:n]"
      ],
      "metadata": {
        "id": "2vg165SAzwRj"
      },
      "execution_count": 91,
      "outputs": []
    },
    {
      "cell_type": "markdown",
      "source": [
        "### **Basic search engine**"
      ],
      "metadata": {
        "id": "tLDPz2aTz-yn"
      }
    },
    {
      "cell_type": "code",
      "source": [
        "# Add The Query\n",
        "q1 = 'elections'\n",
        "\n",
        "# Get 100 similar documents\n",
        "ans = get_similar_articles(q1, df, 100)\n",
        "ans"
      ],
      "metadata": {
        "colab": {
          "base_uri": "https://localhost:8080/",
          "height": 493
        },
        "id": "0tV4gRVlz8BM",
        "outputId": "83df743f-df5f-4ba5-b3be-529d2818f3fd"
      },
      "execution_count": 98,
      "outputs": [
        {
          "output_type": "stream",
          "name": "stdout",
          "text": [
            "query: elections\n",
            "search results: \n"
          ]
        },
        {
          "output_type": "stream",
          "name": "stderr",
          "text": [
            "<ipython-input-91-0977df25ba03>:16: RuntimeWarning: invalid value encountered in double_scalars\n",
            "  sim[i] = np.dot(df.loc[:, i].values, q_vec) / np.linalg.norm(df.loc[:, i]) * np.linalg.norm(q_vec)\n"
          ]
        },
        {
          "output_type": "execute_result",
          "data": {
            "text/plain": [
              "       id                                              title       sim\n",
              "0   41061   Bernie Sanders Clarifies One Of His Most Divi...  0.223431\n",
              "1   27407  Venezuela's Maduro says government wins 90 per...  0.178330\n",
              "2   15654  Kenya court: opposition didn't show presidenti...  0.168525\n",
              "3   41380   Even Fox News Is Slamming Trump’s ‘Dangerous’...  0.159382\n",
              "4    8138  Democrats, civil rights groups disagree over l...  0.154270\n",
              "..    ...                                                ...       ...\n",
              "95   4085  Kenya's foreign debt investors take election t...  0.040933\n",
              "96  31571  Kenya Supreme Court criticizes election board ...  0.040113\n",
              "97  44482  Cruz adviser says Trump campaign taking 'banan...  0.034543\n",
              "98   7599  Republican U.S. Senator Corker will not seek r...  0.030554\n",
              "99  12560  PLAYING POLITICS? HERE’S WHY A JUDGE Will Unse...       NaN\n",
              "\n",
              "[100 rows x 3 columns]"
            ],
            "text/html": [
              "\n",
              "  <div id=\"df-e7fd3a73-c65a-4fe9-9863-21ad0497f1e4\">\n",
              "    <div class=\"colab-df-container\">\n",
              "      <div>\n",
              "<style scoped>\n",
              "    .dataframe tbody tr th:only-of-type {\n",
              "        vertical-align: middle;\n",
              "    }\n",
              "\n",
              "    .dataframe tbody tr th {\n",
              "        vertical-align: top;\n",
              "    }\n",
              "\n",
              "    .dataframe thead th {\n",
              "        text-align: right;\n",
              "    }\n",
              "</style>\n",
              "<table border=\"1\" class=\"dataframe\">\n",
              "  <thead>\n",
              "    <tr style=\"text-align: right;\">\n",
              "      <th></th>\n",
              "      <th>id</th>\n",
              "      <th>title</th>\n",
              "      <th>sim</th>\n",
              "    </tr>\n",
              "  </thead>\n",
              "  <tbody>\n",
              "    <tr>\n",
              "      <th>0</th>\n",
              "      <td>41061</td>\n",
              "      <td>Bernie Sanders Clarifies One Of His Most Divi...</td>\n",
              "      <td>0.223431</td>\n",
              "    </tr>\n",
              "    <tr>\n",
              "      <th>1</th>\n",
              "      <td>27407</td>\n",
              "      <td>Venezuela's Maduro says government wins 90 per...</td>\n",
              "      <td>0.178330</td>\n",
              "    </tr>\n",
              "    <tr>\n",
              "      <th>2</th>\n",
              "      <td>15654</td>\n",
              "      <td>Kenya court: opposition didn't show presidenti...</td>\n",
              "      <td>0.168525</td>\n",
              "    </tr>\n",
              "    <tr>\n",
              "      <th>3</th>\n",
              "      <td>41380</td>\n",
              "      <td>Even Fox News Is Slamming Trump’s ‘Dangerous’...</td>\n",
              "      <td>0.159382</td>\n",
              "    </tr>\n",
              "    <tr>\n",
              "      <th>4</th>\n",
              "      <td>8138</td>\n",
              "      <td>Democrats, civil rights groups disagree over l...</td>\n",
              "      <td>0.154270</td>\n",
              "    </tr>\n",
              "    <tr>\n",
              "      <th>...</th>\n",
              "      <td>...</td>\n",
              "      <td>...</td>\n",
              "      <td>...</td>\n",
              "    </tr>\n",
              "    <tr>\n",
              "      <th>95</th>\n",
              "      <td>4085</td>\n",
              "      <td>Kenya's foreign debt investors take election t...</td>\n",
              "      <td>0.040933</td>\n",
              "    </tr>\n",
              "    <tr>\n",
              "      <th>96</th>\n",
              "      <td>31571</td>\n",
              "      <td>Kenya Supreme Court criticizes election board ...</td>\n",
              "      <td>0.040113</td>\n",
              "    </tr>\n",
              "    <tr>\n",
              "      <th>97</th>\n",
              "      <td>44482</td>\n",
              "      <td>Cruz adviser says Trump campaign taking 'banan...</td>\n",
              "      <td>0.034543</td>\n",
              "    </tr>\n",
              "    <tr>\n",
              "      <th>98</th>\n",
              "      <td>7599</td>\n",
              "      <td>Republican U.S. Senator Corker will not seek r...</td>\n",
              "      <td>0.030554</td>\n",
              "    </tr>\n",
              "    <tr>\n",
              "      <th>99</th>\n",
              "      <td>12560</td>\n",
              "      <td>PLAYING POLITICS? HERE’S WHY A JUDGE Will Unse...</td>\n",
              "      <td>NaN</td>\n",
              "    </tr>\n",
              "  </tbody>\n",
              "</table>\n",
              "<p>100 rows × 3 columns</p>\n",
              "</div>\n",
              "      <button class=\"colab-df-convert\" onclick=\"convertToInteractive('df-e7fd3a73-c65a-4fe9-9863-21ad0497f1e4')\"\n",
              "              title=\"Convert this dataframe to an interactive table.\"\n",
              "              style=\"display:none;\">\n",
              "        \n",
              "  <svg xmlns=\"http://www.w3.org/2000/svg\" height=\"24px\"viewBox=\"0 0 24 24\"\n",
              "       width=\"24px\">\n",
              "    <path d=\"M0 0h24v24H0V0z\" fill=\"none\"/>\n",
              "    <path d=\"M18.56 5.44l.94 2.06.94-2.06 2.06-.94-2.06-.94-.94-2.06-.94 2.06-2.06.94zm-11 1L8.5 8.5l.94-2.06 2.06-.94-2.06-.94L8.5 2.5l-.94 2.06-2.06.94zm10 10l.94 2.06.94-2.06 2.06-.94-2.06-.94-.94-2.06-.94 2.06-2.06.94z\"/><path d=\"M17.41 7.96l-1.37-1.37c-.4-.4-.92-.59-1.43-.59-.52 0-1.04.2-1.43.59L10.3 9.45l-7.72 7.72c-.78.78-.78 2.05 0 2.83L4 21.41c.39.39.9.59 1.41.59.51 0 1.02-.2 1.41-.59l7.78-7.78 2.81-2.81c.8-.78.8-2.07 0-2.86zM5.41 20L4 18.59l7.72-7.72 1.47 1.35L5.41 20z\"/>\n",
              "  </svg>\n",
              "      </button>\n",
              "      \n",
              "  <style>\n",
              "    .colab-df-container {\n",
              "      display:flex;\n",
              "      flex-wrap:wrap;\n",
              "      gap: 12px;\n",
              "    }\n",
              "\n",
              "    .colab-df-convert {\n",
              "      background-color: #E8F0FE;\n",
              "      border: none;\n",
              "      border-radius: 50%;\n",
              "      cursor: pointer;\n",
              "      display: none;\n",
              "      fill: #1967D2;\n",
              "      height: 32px;\n",
              "      padding: 0 0 0 0;\n",
              "      width: 32px;\n",
              "    }\n",
              "\n",
              "    .colab-df-convert:hover {\n",
              "      background-color: #E2EBFA;\n",
              "      box-shadow: 0px 1px 2px rgba(60, 64, 67, 0.3), 0px 1px 3px 1px rgba(60, 64, 67, 0.15);\n",
              "      fill: #174EA6;\n",
              "    }\n",
              "\n",
              "    [theme=dark] .colab-df-convert {\n",
              "      background-color: #3B4455;\n",
              "      fill: #D2E3FC;\n",
              "    }\n",
              "\n",
              "    [theme=dark] .colab-df-convert:hover {\n",
              "      background-color: #434B5C;\n",
              "      box-shadow: 0px 1px 3px 1px rgba(0, 0, 0, 0.15);\n",
              "      filter: drop-shadow(0px 1px 2px rgba(0, 0, 0, 0.3));\n",
              "      fill: #FFFFFF;\n",
              "    }\n",
              "  </style>\n",
              "\n",
              "      <script>\n",
              "        const buttonEl =\n",
              "          document.querySelector('#df-e7fd3a73-c65a-4fe9-9863-21ad0497f1e4 button.colab-df-convert');\n",
              "        buttonEl.style.display =\n",
              "          google.colab.kernel.accessAllowed ? 'block' : 'none';\n",
              "\n",
              "        async function convertToInteractive(key) {\n",
              "          const element = document.querySelector('#df-e7fd3a73-c65a-4fe9-9863-21ad0497f1e4');\n",
              "          const dataTable =\n",
              "            await google.colab.kernel.invokeFunction('convertToInteractive',\n",
              "                                                     [key], {});\n",
              "          if (!dataTable) return;\n",
              "\n",
              "          const docLinkHtml = 'Like what you see? Visit the ' +\n",
              "            '<a target=\"_blank\" href=https://colab.research.google.com/notebooks/data_table.ipynb>data table notebook</a>'\n",
              "            + ' to learn more about interactive tables.';\n",
              "          element.innerHTML = '';\n",
              "          dataTable['output_type'] = 'display_data';\n",
              "          await google.colab.output.renderOutput(dataTable, element);\n",
              "          const docLink = document.createElement('div');\n",
              "          docLink.innerHTML = docLinkHtml;\n",
              "          element.appendChild(docLink);\n",
              "        }\n",
              "      </script>\n",
              "    </div>\n",
              "  </div>\n",
              "  "
            ]
          },
          "metadata": {},
          "execution_count": 98
        }
      ]
    },
    {
      "cell_type": "code",
      "source": [
        "# Get topic of query\n",
        "def get_query_class(q):\n",
        "  q = [q]\n",
        "  q_vec = tfidf.transform(q).toarray()\n",
        "  subj_class = multi_classifier.predict(q_vec)\n",
        "  print(subj_class)\n",
        "  return subj_class"
      ],
      "metadata": {
        "id": "23IqGpBi0BEi"
      },
      "execution_count": 99,
      "outputs": []
    },
    {
      "cell_type": "code",
      "source": [
        "query_topic = get_query_class(q1)\n",
        "\n",
        "# Get similar documents from predicted label dataset\n",
        "result_ids = list(ans.id)\n",
        "ans_code = train_df[[True if i in result_ids else False for i in train_df.Id] ][[\"Id\",\"subject_code\",\"label\"]]\n",
        "ans_code.head()"
      ],
      "metadata": {
        "colab": {
          "base_uri": "https://localhost:8080/",
          "height": 223
        },
        "id": "bOX6afAK0Gli",
        "outputId": "99424018-f9ec-44dd-f1c3-ed29371e8226"
      },
      "execution_count": 100,
      "outputs": [
        {
          "output_type": "stream",
          "name": "stdout",
          "text": [
            "[7]\n"
          ]
        },
        {
          "output_type": "execute_result",
          "data": {
            "text/plain": [
              "        Id  subject_code  label\n",
              "90   43481             6      0\n",
              "96   27338             6      0\n",
              "103  15699             5      1\n",
              "113  12071             5      1\n",
              "136      6             7      0"
            ],
            "text/html": [
              "\n",
              "  <div id=\"df-098b060e-91c0-4cea-9139-c2878f3afa86\">\n",
              "    <div class=\"colab-df-container\">\n",
              "      <div>\n",
              "<style scoped>\n",
              "    .dataframe tbody tr th:only-of-type {\n",
              "        vertical-align: middle;\n",
              "    }\n",
              "\n",
              "    .dataframe tbody tr th {\n",
              "        vertical-align: top;\n",
              "    }\n",
              "\n",
              "    .dataframe thead th {\n",
              "        text-align: right;\n",
              "    }\n",
              "</style>\n",
              "<table border=\"1\" class=\"dataframe\">\n",
              "  <thead>\n",
              "    <tr style=\"text-align: right;\">\n",
              "      <th></th>\n",
              "      <th>Id</th>\n",
              "      <th>subject_code</th>\n",
              "      <th>label</th>\n",
              "    </tr>\n",
              "  </thead>\n",
              "  <tbody>\n",
              "    <tr>\n",
              "      <th>90</th>\n",
              "      <td>43481</td>\n",
              "      <td>6</td>\n",
              "      <td>0</td>\n",
              "    </tr>\n",
              "    <tr>\n",
              "      <th>96</th>\n",
              "      <td>27338</td>\n",
              "      <td>6</td>\n",
              "      <td>0</td>\n",
              "    </tr>\n",
              "    <tr>\n",
              "      <th>103</th>\n",
              "      <td>15699</td>\n",
              "      <td>5</td>\n",
              "      <td>1</td>\n",
              "    </tr>\n",
              "    <tr>\n",
              "      <th>113</th>\n",
              "      <td>12071</td>\n",
              "      <td>5</td>\n",
              "      <td>1</td>\n",
              "    </tr>\n",
              "    <tr>\n",
              "      <th>136</th>\n",
              "      <td>6</td>\n",
              "      <td>7</td>\n",
              "      <td>0</td>\n",
              "    </tr>\n",
              "  </tbody>\n",
              "</table>\n",
              "</div>\n",
              "      <button class=\"colab-df-convert\" onclick=\"convertToInteractive('df-098b060e-91c0-4cea-9139-c2878f3afa86')\"\n",
              "              title=\"Convert this dataframe to an interactive table.\"\n",
              "              style=\"display:none;\">\n",
              "        \n",
              "  <svg xmlns=\"http://www.w3.org/2000/svg\" height=\"24px\"viewBox=\"0 0 24 24\"\n",
              "       width=\"24px\">\n",
              "    <path d=\"M0 0h24v24H0V0z\" fill=\"none\"/>\n",
              "    <path d=\"M18.56 5.44l.94 2.06.94-2.06 2.06-.94-2.06-.94-.94-2.06-.94 2.06-2.06.94zm-11 1L8.5 8.5l.94-2.06 2.06-.94-2.06-.94L8.5 2.5l-.94 2.06-2.06.94zm10 10l.94 2.06.94-2.06 2.06-.94-2.06-.94-.94-2.06-.94 2.06-2.06.94z\"/><path d=\"M17.41 7.96l-1.37-1.37c-.4-.4-.92-.59-1.43-.59-.52 0-1.04.2-1.43.59L10.3 9.45l-7.72 7.72c-.78.78-.78 2.05 0 2.83L4 21.41c.39.39.9.59 1.41.59.51 0 1.02-.2 1.41-.59l7.78-7.78 2.81-2.81c.8-.78.8-2.07 0-2.86zM5.41 20L4 18.59l7.72-7.72 1.47 1.35L5.41 20z\"/>\n",
              "  </svg>\n",
              "      </button>\n",
              "      \n",
              "  <style>\n",
              "    .colab-df-container {\n",
              "      display:flex;\n",
              "      flex-wrap:wrap;\n",
              "      gap: 12px;\n",
              "    }\n",
              "\n",
              "    .colab-df-convert {\n",
              "      background-color: #E8F0FE;\n",
              "      border: none;\n",
              "      border-radius: 50%;\n",
              "      cursor: pointer;\n",
              "      display: none;\n",
              "      fill: #1967D2;\n",
              "      height: 32px;\n",
              "      padding: 0 0 0 0;\n",
              "      width: 32px;\n",
              "    }\n",
              "\n",
              "    .colab-df-convert:hover {\n",
              "      background-color: #E2EBFA;\n",
              "      box-shadow: 0px 1px 2px rgba(60, 64, 67, 0.3), 0px 1px 3px 1px rgba(60, 64, 67, 0.15);\n",
              "      fill: #174EA6;\n",
              "    }\n",
              "\n",
              "    [theme=dark] .colab-df-convert {\n",
              "      background-color: #3B4455;\n",
              "      fill: #D2E3FC;\n",
              "    }\n",
              "\n",
              "    [theme=dark] .colab-df-convert:hover {\n",
              "      background-color: #434B5C;\n",
              "      box-shadow: 0px 1px 3px 1px rgba(0, 0, 0, 0.15);\n",
              "      filter: drop-shadow(0px 1px 2px rgba(0, 0, 0, 0.3));\n",
              "      fill: #FFFFFF;\n",
              "    }\n",
              "  </style>\n",
              "\n",
              "      <script>\n",
              "        const buttonEl =\n",
              "          document.querySelector('#df-098b060e-91c0-4cea-9139-c2878f3afa86 button.colab-df-convert');\n",
              "        buttonEl.style.display =\n",
              "          google.colab.kernel.accessAllowed ? 'block' : 'none';\n",
              "\n",
              "        async function convertToInteractive(key) {\n",
              "          const element = document.querySelector('#df-098b060e-91c0-4cea-9139-c2878f3afa86');\n",
              "          const dataTable =\n",
              "            await google.colab.kernel.invokeFunction('convertToInteractive',\n",
              "                                                     [key], {});\n",
              "          if (!dataTable) return;\n",
              "\n",
              "          const docLinkHtml = 'Like what you see? Visit the ' +\n",
              "            '<a target=\"_blank\" href=https://colab.research.google.com/notebooks/data_table.ipynb>data table notebook</a>'\n",
              "            + ' to learn more about interactive tables.';\n",
              "          element.innerHTML = '';\n",
              "          dataTable['output_type'] = 'display_data';\n",
              "          await google.colab.output.renderOutput(dataTable, element);\n",
              "          const docLink = document.createElement('div');\n",
              "          docLink.innerHTML = docLinkHtml;\n",
              "          element.appendChild(docLink);\n",
              "        }\n",
              "      </script>\n",
              "    </div>\n",
              "  </div>\n",
              "  "
            ]
          },
          "metadata": {},
          "execution_count": 100
        }
      ]
    },
    {
      "cell_type": "code",
      "source": [
        "docs_retreived = pd.merge(ans,ans_code, left_on=[\"id\"], right_on=[\"Id\"])\n",
        "docs_retreived"
      ],
      "metadata": {
        "colab": {
          "base_uri": "https://localhost:8080/",
          "height": 424
        },
        "id": "CSpWQo4D0P-8",
        "outputId": "118e3722-817e-47a0-b745-52988005b05d"
      },
      "execution_count": 101,
      "outputs": [
        {
          "output_type": "execute_result",
          "data": {
            "text/plain": [
              "       id                                              title       sim     Id  \\\n",
              "0   41061   Bernie Sanders Clarifies One Of His Most Divi...  0.223431  41061   \n",
              "1   27407  Venezuela's Maduro says government wins 90 per...  0.178330  27407   \n",
              "2   15654  Kenya court: opposition didn't show presidenti...  0.168525  15654   \n",
              "3   41380   Even Fox News Is Slamming Trump’s ‘Dangerous’...  0.159382  41380   \n",
              "4    8138  Democrats, civil rights groups disagree over l...  0.154270   8138   \n",
              "..    ...                                                ...       ...    ...   \n",
              "95   4085  Kenya's foreign debt investors take election t...  0.040933   4085   \n",
              "96  31571  Kenya Supreme Court criticizes election board ...  0.040113  31571   \n",
              "97  44482  Cruz adviser says Trump campaign taking 'banan...  0.034543  44482   \n",
              "98   7599  Republican U.S. Senator Corker will not seek r...  0.030554   7599   \n",
              "99  12560  PLAYING POLITICS? HERE’S WHY A JUDGE Will Unse...       NaN  12560   \n",
              "\n",
              "    subject_code  label  \n",
              "0              2      1  \n",
              "1              7      0  \n",
              "2              7      0  \n",
              "3              2      1  \n",
              "4              6      0  \n",
              "..           ...    ...  \n",
              "95             7      0  \n",
              "96             7      0  \n",
              "97             6      0  \n",
              "98             6      0  \n",
              "99             5      1  \n",
              "\n",
              "[100 rows x 6 columns]"
            ],
            "text/html": [
              "\n",
              "  <div id=\"df-7667286f-4930-4abf-be8b-acb72ec86221\">\n",
              "    <div class=\"colab-df-container\">\n",
              "      <div>\n",
              "<style scoped>\n",
              "    .dataframe tbody tr th:only-of-type {\n",
              "        vertical-align: middle;\n",
              "    }\n",
              "\n",
              "    .dataframe tbody tr th {\n",
              "        vertical-align: top;\n",
              "    }\n",
              "\n",
              "    .dataframe thead th {\n",
              "        text-align: right;\n",
              "    }\n",
              "</style>\n",
              "<table border=\"1\" class=\"dataframe\">\n",
              "  <thead>\n",
              "    <tr style=\"text-align: right;\">\n",
              "      <th></th>\n",
              "      <th>id</th>\n",
              "      <th>title</th>\n",
              "      <th>sim</th>\n",
              "      <th>Id</th>\n",
              "      <th>subject_code</th>\n",
              "      <th>label</th>\n",
              "    </tr>\n",
              "  </thead>\n",
              "  <tbody>\n",
              "    <tr>\n",
              "      <th>0</th>\n",
              "      <td>41061</td>\n",
              "      <td>Bernie Sanders Clarifies One Of His Most Divi...</td>\n",
              "      <td>0.223431</td>\n",
              "      <td>41061</td>\n",
              "      <td>2</td>\n",
              "      <td>1</td>\n",
              "    </tr>\n",
              "    <tr>\n",
              "      <th>1</th>\n",
              "      <td>27407</td>\n",
              "      <td>Venezuela's Maduro says government wins 90 per...</td>\n",
              "      <td>0.178330</td>\n",
              "      <td>27407</td>\n",
              "      <td>7</td>\n",
              "      <td>0</td>\n",
              "    </tr>\n",
              "    <tr>\n",
              "      <th>2</th>\n",
              "      <td>15654</td>\n",
              "      <td>Kenya court: opposition didn't show presidenti...</td>\n",
              "      <td>0.168525</td>\n",
              "      <td>15654</td>\n",
              "      <td>7</td>\n",
              "      <td>0</td>\n",
              "    </tr>\n",
              "    <tr>\n",
              "      <th>3</th>\n",
              "      <td>41380</td>\n",
              "      <td>Even Fox News Is Slamming Trump’s ‘Dangerous’...</td>\n",
              "      <td>0.159382</td>\n",
              "      <td>41380</td>\n",
              "      <td>2</td>\n",
              "      <td>1</td>\n",
              "    </tr>\n",
              "    <tr>\n",
              "      <th>4</th>\n",
              "      <td>8138</td>\n",
              "      <td>Democrats, civil rights groups disagree over l...</td>\n",
              "      <td>0.154270</td>\n",
              "      <td>8138</td>\n",
              "      <td>6</td>\n",
              "      <td>0</td>\n",
              "    </tr>\n",
              "    <tr>\n",
              "      <th>...</th>\n",
              "      <td>...</td>\n",
              "      <td>...</td>\n",
              "      <td>...</td>\n",
              "      <td>...</td>\n",
              "      <td>...</td>\n",
              "      <td>...</td>\n",
              "    </tr>\n",
              "    <tr>\n",
              "      <th>95</th>\n",
              "      <td>4085</td>\n",
              "      <td>Kenya's foreign debt investors take election t...</td>\n",
              "      <td>0.040933</td>\n",
              "      <td>4085</td>\n",
              "      <td>7</td>\n",
              "      <td>0</td>\n",
              "    </tr>\n",
              "    <tr>\n",
              "      <th>96</th>\n",
              "      <td>31571</td>\n",
              "      <td>Kenya Supreme Court criticizes election board ...</td>\n",
              "      <td>0.040113</td>\n",
              "      <td>31571</td>\n",
              "      <td>7</td>\n",
              "      <td>0</td>\n",
              "    </tr>\n",
              "    <tr>\n",
              "      <th>97</th>\n",
              "      <td>44482</td>\n",
              "      <td>Cruz adviser says Trump campaign taking 'banan...</td>\n",
              "      <td>0.034543</td>\n",
              "      <td>44482</td>\n",
              "      <td>6</td>\n",
              "      <td>0</td>\n",
              "    </tr>\n",
              "    <tr>\n",
              "      <th>98</th>\n",
              "      <td>7599</td>\n",
              "      <td>Republican U.S. Senator Corker will not seek r...</td>\n",
              "      <td>0.030554</td>\n",
              "      <td>7599</td>\n",
              "      <td>6</td>\n",
              "      <td>0</td>\n",
              "    </tr>\n",
              "    <tr>\n",
              "      <th>99</th>\n",
              "      <td>12560</td>\n",
              "      <td>PLAYING POLITICS? HERE’S WHY A JUDGE Will Unse...</td>\n",
              "      <td>NaN</td>\n",
              "      <td>12560</td>\n",
              "      <td>5</td>\n",
              "      <td>1</td>\n",
              "    </tr>\n",
              "  </tbody>\n",
              "</table>\n",
              "<p>100 rows × 6 columns</p>\n",
              "</div>\n",
              "      <button class=\"colab-df-convert\" onclick=\"convertToInteractive('df-7667286f-4930-4abf-be8b-acb72ec86221')\"\n",
              "              title=\"Convert this dataframe to an interactive table.\"\n",
              "              style=\"display:none;\">\n",
              "        \n",
              "  <svg xmlns=\"http://www.w3.org/2000/svg\" height=\"24px\"viewBox=\"0 0 24 24\"\n",
              "       width=\"24px\">\n",
              "    <path d=\"M0 0h24v24H0V0z\" fill=\"none\"/>\n",
              "    <path d=\"M18.56 5.44l.94 2.06.94-2.06 2.06-.94-2.06-.94-.94-2.06-.94 2.06-2.06.94zm-11 1L8.5 8.5l.94-2.06 2.06-.94-2.06-.94L8.5 2.5l-.94 2.06-2.06.94zm10 10l.94 2.06.94-2.06 2.06-.94-2.06-.94-.94-2.06-.94 2.06-2.06.94z\"/><path d=\"M17.41 7.96l-1.37-1.37c-.4-.4-.92-.59-1.43-.59-.52 0-1.04.2-1.43.59L10.3 9.45l-7.72 7.72c-.78.78-.78 2.05 0 2.83L4 21.41c.39.39.9.59 1.41.59.51 0 1.02-.2 1.41-.59l7.78-7.78 2.81-2.81c.8-.78.8-2.07 0-2.86zM5.41 20L4 18.59l7.72-7.72 1.47 1.35L5.41 20z\"/>\n",
              "  </svg>\n",
              "      </button>\n",
              "      \n",
              "  <style>\n",
              "    .colab-df-container {\n",
              "      display:flex;\n",
              "      flex-wrap:wrap;\n",
              "      gap: 12px;\n",
              "    }\n",
              "\n",
              "    .colab-df-convert {\n",
              "      background-color: #E8F0FE;\n",
              "      border: none;\n",
              "      border-radius: 50%;\n",
              "      cursor: pointer;\n",
              "      display: none;\n",
              "      fill: #1967D2;\n",
              "      height: 32px;\n",
              "      padding: 0 0 0 0;\n",
              "      width: 32px;\n",
              "    }\n",
              "\n",
              "    .colab-df-convert:hover {\n",
              "      background-color: #E2EBFA;\n",
              "      box-shadow: 0px 1px 2px rgba(60, 64, 67, 0.3), 0px 1px 3px 1px rgba(60, 64, 67, 0.15);\n",
              "      fill: #174EA6;\n",
              "    }\n",
              "\n",
              "    [theme=dark] .colab-df-convert {\n",
              "      background-color: #3B4455;\n",
              "      fill: #D2E3FC;\n",
              "    }\n",
              "\n",
              "    [theme=dark] .colab-df-convert:hover {\n",
              "      background-color: #434B5C;\n",
              "      box-shadow: 0px 1px 3px 1px rgba(0, 0, 0, 0.15);\n",
              "      filter: drop-shadow(0px 1px 2px rgba(0, 0, 0, 0.3));\n",
              "      fill: #FFFFFF;\n",
              "    }\n",
              "  </style>\n",
              "\n",
              "      <script>\n",
              "        const buttonEl =\n",
              "          document.querySelector('#df-7667286f-4930-4abf-be8b-acb72ec86221 button.colab-df-convert');\n",
              "        buttonEl.style.display =\n",
              "          google.colab.kernel.accessAllowed ? 'block' : 'none';\n",
              "\n",
              "        async function convertToInteractive(key) {\n",
              "          const element = document.querySelector('#df-7667286f-4930-4abf-be8b-acb72ec86221');\n",
              "          const dataTable =\n",
              "            await google.colab.kernel.invokeFunction('convertToInteractive',\n",
              "                                                     [key], {});\n",
              "          if (!dataTable) return;\n",
              "\n",
              "          const docLinkHtml = 'Like what you see? Visit the ' +\n",
              "            '<a target=\"_blank\" href=https://colab.research.google.com/notebooks/data_table.ipynb>data table notebook</a>'\n",
              "            + ' to learn more about interactive tables.';\n",
              "          element.innerHTML = '';\n",
              "          dataTable['output_type'] = 'display_data';\n",
              "          await google.colab.output.renderOutput(dataTable, element);\n",
              "          const docLink = document.createElement('div');\n",
              "          docLink.innerHTML = docLinkHtml;\n",
              "          element.appendChild(docLink);\n",
              "        }\n",
              "      </script>\n",
              "    </div>\n",
              "  </div>\n",
              "  "
            ]
          },
          "metadata": {},
          "execution_count": 101
        }
      ]
    },
    {
      "cell_type": "code",
      "source": [
        "# Filter on basis of reliability and topical relevance\n",
        "class_labs = list(docs_retreived.label)\n",
        "fact_filtered = docs_retreived[[True if i == 1 else False for i in class_labs]]\n",
        "\n",
        "subj_labs = list(docs_retreived.subject_code)\n",
        "topic_filtered = docs_retreived[[True if i == query_topic else False for i in subj_labs]][[\"id\",\"title\"]]\n",
        "\n",
        "topic_filtered"
      ],
      "metadata": {
        "colab": {
          "base_uri": "https://localhost:8080/",
          "height": 802
        },
        "id": "mklwiBv803Ym",
        "outputId": "5b5d61e0-bf76-447d-96d1-b39d223bb2ef"
      },
      "execution_count": 102,
      "outputs": [
        {
          "output_type": "execute_result",
          "data": {
            "text/plain": [
              "       id                                              title\n",
              "1   27407  Venezuela's Maduro says government wins 90 per...\n",
              "2   15654  Kenya court: opposition didn't show presidenti...\n",
              "5    1164  Putin declares \"complete victory\" on both bank...\n",
              "12  13921  Poland gives government key election role, opp...\n",
              "13  10839  U.N. extends Syria round to Dec. 15, presidenc...\n",
              "15  14157  Barely a quarter of Catalans want to pursue sp...\n",
              "16  41780  Half of Germans want new elections after coali...\n",
              "19  14981  \"The people have spoken,\" says Zimbabwe's new ...\n",
              "26  44522  Cuba holds municipal elections on road to Cast...\n",
              "30   7922  Bounce for Australian PM as voters tire of lea...\n",
              "31  39414  Supporters free ex-Georgian leader Saakashvili...\n",
              "36  22665  Catalan parliament to meet on Thursday to deci...\n",
              "40  42302  With opposition split, Venezuela mayoral vote ...\n",
              "46  12369  U.S. launches media fund for Hungary to aid pr...\n",
              "47      6  Germany must stop relying on U.S. for foreign ...\n",
              "48  29980  Vatican urges politicians to defend migrants, ...\n",
              "49  12706  Venezuela systematically abused foes in 2017 p...\n",
              "55  38866  Spain urges Catalonia secessionists to obey Ma...\n",
              "56   4051    Post-election conundrum awaits Germany's Merkel\n",
              "68   9298  Czech election front-runner likely to put stam...\n",
              "75  17204  Merkel's conservatives tempt SPD with offer on...\n",
              "89  36424  Senate Democratic leader Schumer calls for spe...\n",
              "95   4085  Kenya's foreign debt investors take election t...\n",
              "96  31571  Kenya Supreme Court criticizes election board ..."
            ],
            "text/html": [
              "\n",
              "  <div id=\"df-e3402fbd-e30a-4f3b-9609-4bba9dee48a8\">\n",
              "    <div class=\"colab-df-container\">\n",
              "      <div>\n",
              "<style scoped>\n",
              "    .dataframe tbody tr th:only-of-type {\n",
              "        vertical-align: middle;\n",
              "    }\n",
              "\n",
              "    .dataframe tbody tr th {\n",
              "        vertical-align: top;\n",
              "    }\n",
              "\n",
              "    .dataframe thead th {\n",
              "        text-align: right;\n",
              "    }\n",
              "</style>\n",
              "<table border=\"1\" class=\"dataframe\">\n",
              "  <thead>\n",
              "    <tr style=\"text-align: right;\">\n",
              "      <th></th>\n",
              "      <th>id</th>\n",
              "      <th>title</th>\n",
              "    </tr>\n",
              "  </thead>\n",
              "  <tbody>\n",
              "    <tr>\n",
              "      <th>1</th>\n",
              "      <td>27407</td>\n",
              "      <td>Venezuela's Maduro says government wins 90 per...</td>\n",
              "    </tr>\n",
              "    <tr>\n",
              "      <th>2</th>\n",
              "      <td>15654</td>\n",
              "      <td>Kenya court: opposition didn't show presidenti...</td>\n",
              "    </tr>\n",
              "    <tr>\n",
              "      <th>5</th>\n",
              "      <td>1164</td>\n",
              "      <td>Putin declares \"complete victory\" on both bank...</td>\n",
              "    </tr>\n",
              "    <tr>\n",
              "      <th>12</th>\n",
              "      <td>13921</td>\n",
              "      <td>Poland gives government key election role, opp...</td>\n",
              "    </tr>\n",
              "    <tr>\n",
              "      <th>13</th>\n",
              "      <td>10839</td>\n",
              "      <td>U.N. extends Syria round to Dec. 15, presidenc...</td>\n",
              "    </tr>\n",
              "    <tr>\n",
              "      <th>15</th>\n",
              "      <td>14157</td>\n",
              "      <td>Barely a quarter of Catalans want to pursue sp...</td>\n",
              "    </tr>\n",
              "    <tr>\n",
              "      <th>16</th>\n",
              "      <td>41780</td>\n",
              "      <td>Half of Germans want new elections after coali...</td>\n",
              "    </tr>\n",
              "    <tr>\n",
              "      <th>19</th>\n",
              "      <td>14981</td>\n",
              "      <td>\"The people have spoken,\" says Zimbabwe's new ...</td>\n",
              "    </tr>\n",
              "    <tr>\n",
              "      <th>26</th>\n",
              "      <td>44522</td>\n",
              "      <td>Cuba holds municipal elections on road to Cast...</td>\n",
              "    </tr>\n",
              "    <tr>\n",
              "      <th>30</th>\n",
              "      <td>7922</td>\n",
              "      <td>Bounce for Australian PM as voters tire of lea...</td>\n",
              "    </tr>\n",
              "    <tr>\n",
              "      <th>31</th>\n",
              "      <td>39414</td>\n",
              "      <td>Supporters free ex-Georgian leader Saakashvili...</td>\n",
              "    </tr>\n",
              "    <tr>\n",
              "      <th>36</th>\n",
              "      <td>22665</td>\n",
              "      <td>Catalan parliament to meet on Thursday to deci...</td>\n",
              "    </tr>\n",
              "    <tr>\n",
              "      <th>40</th>\n",
              "      <td>42302</td>\n",
              "      <td>With opposition split, Venezuela mayoral vote ...</td>\n",
              "    </tr>\n",
              "    <tr>\n",
              "      <th>46</th>\n",
              "      <td>12369</td>\n",
              "      <td>U.S. launches media fund for Hungary to aid pr...</td>\n",
              "    </tr>\n",
              "    <tr>\n",
              "      <th>47</th>\n",
              "      <td>6</td>\n",
              "      <td>Germany must stop relying on U.S. for foreign ...</td>\n",
              "    </tr>\n",
              "    <tr>\n",
              "      <th>48</th>\n",
              "      <td>29980</td>\n",
              "      <td>Vatican urges politicians to defend migrants, ...</td>\n",
              "    </tr>\n",
              "    <tr>\n",
              "      <th>49</th>\n",
              "      <td>12706</td>\n",
              "      <td>Venezuela systematically abused foes in 2017 p...</td>\n",
              "    </tr>\n",
              "    <tr>\n",
              "      <th>55</th>\n",
              "      <td>38866</td>\n",
              "      <td>Spain urges Catalonia secessionists to obey Ma...</td>\n",
              "    </tr>\n",
              "    <tr>\n",
              "      <th>56</th>\n",
              "      <td>4051</td>\n",
              "      <td>Post-election conundrum awaits Germany's Merkel</td>\n",
              "    </tr>\n",
              "    <tr>\n",
              "      <th>68</th>\n",
              "      <td>9298</td>\n",
              "      <td>Czech election front-runner likely to put stam...</td>\n",
              "    </tr>\n",
              "    <tr>\n",
              "      <th>75</th>\n",
              "      <td>17204</td>\n",
              "      <td>Merkel's conservatives tempt SPD with offer on...</td>\n",
              "    </tr>\n",
              "    <tr>\n",
              "      <th>89</th>\n",
              "      <td>36424</td>\n",
              "      <td>Senate Democratic leader Schumer calls for spe...</td>\n",
              "    </tr>\n",
              "    <tr>\n",
              "      <th>95</th>\n",
              "      <td>4085</td>\n",
              "      <td>Kenya's foreign debt investors take election t...</td>\n",
              "    </tr>\n",
              "    <tr>\n",
              "      <th>96</th>\n",
              "      <td>31571</td>\n",
              "      <td>Kenya Supreme Court criticizes election board ...</td>\n",
              "    </tr>\n",
              "  </tbody>\n",
              "</table>\n",
              "</div>\n",
              "      <button class=\"colab-df-convert\" onclick=\"convertToInteractive('df-e3402fbd-e30a-4f3b-9609-4bba9dee48a8')\"\n",
              "              title=\"Convert this dataframe to an interactive table.\"\n",
              "              style=\"display:none;\">\n",
              "        \n",
              "  <svg xmlns=\"http://www.w3.org/2000/svg\" height=\"24px\"viewBox=\"0 0 24 24\"\n",
              "       width=\"24px\">\n",
              "    <path d=\"M0 0h24v24H0V0z\" fill=\"none\"/>\n",
              "    <path d=\"M18.56 5.44l.94 2.06.94-2.06 2.06-.94-2.06-.94-.94-2.06-.94 2.06-2.06.94zm-11 1L8.5 8.5l.94-2.06 2.06-.94-2.06-.94L8.5 2.5l-.94 2.06-2.06.94zm10 10l.94 2.06.94-2.06 2.06-.94-2.06-.94-.94-2.06-.94 2.06-2.06.94z\"/><path d=\"M17.41 7.96l-1.37-1.37c-.4-.4-.92-.59-1.43-.59-.52 0-1.04.2-1.43.59L10.3 9.45l-7.72 7.72c-.78.78-.78 2.05 0 2.83L4 21.41c.39.39.9.59 1.41.59.51 0 1.02-.2 1.41-.59l7.78-7.78 2.81-2.81c.8-.78.8-2.07 0-2.86zM5.41 20L4 18.59l7.72-7.72 1.47 1.35L5.41 20z\"/>\n",
              "  </svg>\n",
              "      </button>\n",
              "      \n",
              "  <style>\n",
              "    .colab-df-container {\n",
              "      display:flex;\n",
              "      flex-wrap:wrap;\n",
              "      gap: 12px;\n",
              "    }\n",
              "\n",
              "    .colab-df-convert {\n",
              "      background-color: #E8F0FE;\n",
              "      border: none;\n",
              "      border-radius: 50%;\n",
              "      cursor: pointer;\n",
              "      display: none;\n",
              "      fill: #1967D2;\n",
              "      height: 32px;\n",
              "      padding: 0 0 0 0;\n",
              "      width: 32px;\n",
              "    }\n",
              "\n",
              "    .colab-df-convert:hover {\n",
              "      background-color: #E2EBFA;\n",
              "      box-shadow: 0px 1px 2px rgba(60, 64, 67, 0.3), 0px 1px 3px 1px rgba(60, 64, 67, 0.15);\n",
              "      fill: #174EA6;\n",
              "    }\n",
              "\n",
              "    [theme=dark] .colab-df-convert {\n",
              "      background-color: #3B4455;\n",
              "      fill: #D2E3FC;\n",
              "    }\n",
              "\n",
              "    [theme=dark] .colab-df-convert:hover {\n",
              "      background-color: #434B5C;\n",
              "      box-shadow: 0px 1px 3px 1px rgba(0, 0, 0, 0.15);\n",
              "      filter: drop-shadow(0px 1px 2px rgba(0, 0, 0, 0.3));\n",
              "      fill: #FFFFFF;\n",
              "    }\n",
              "  </style>\n",
              "\n",
              "      <script>\n",
              "        const buttonEl =\n",
              "          document.querySelector('#df-e3402fbd-e30a-4f3b-9609-4bba9dee48a8 button.colab-df-convert');\n",
              "        buttonEl.style.display =\n",
              "          google.colab.kernel.accessAllowed ? 'block' : 'none';\n",
              "\n",
              "        async function convertToInteractive(key) {\n",
              "          const element = document.querySelector('#df-e3402fbd-e30a-4f3b-9609-4bba9dee48a8');\n",
              "          const dataTable =\n",
              "            await google.colab.kernel.invokeFunction('convertToInteractive',\n",
              "                                                     [key], {});\n",
              "          if (!dataTable) return;\n",
              "\n",
              "          const docLinkHtml = 'Like what you see? Visit the ' +\n",
              "            '<a target=\"_blank\" href=https://colab.research.google.com/notebooks/data_table.ipynb>data table notebook</a>'\n",
              "            + ' to learn more about interactive tables.';\n",
              "          element.innerHTML = '';\n",
              "          dataTable['output_type'] = 'display_data';\n",
              "          await google.colab.output.renderOutput(dataTable, element);\n",
              "          const docLink = document.createElement('div');\n",
              "          docLink.innerHTML = docLinkHtml;\n",
              "          element.appendChild(docLink);\n",
              "        }\n",
              "      </script>\n",
              "    </div>\n",
              "  </div>\n",
              "  "
            ]
          },
          "metadata": {},
          "execution_count": 102
        }
      ]
    },
    {
      "cell_type": "code",
      "source": [],
      "metadata": {
        "id": "9kikL8w4CW3J"
      },
      "execution_count": null,
      "outputs": []
    }
  ]
}